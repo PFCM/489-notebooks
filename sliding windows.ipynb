{
 "cells": [
  {
   "cell_type": "code",
   "execution_count": 1,
   "metadata": {
    "collapsed": true
   },
   "outputs": [],
   "source": [
    "%matplotlib inline\n",
    "import matplotlib.pyplot as plt\n",
    "import numpy as np"
   ]
  },
  {
   "cell_type": "markdown",
   "metadata": {},
   "source": [
    "RNN gates = sliding windows over candidates.\n",
    "\n",
    "For LSTM style unbounded gates:\n",
    "$$\n",
    "    h_t = p_th_{t-1} + z_t\n",
    "$$\n",
    "Suppose $p_i = 0.99$ for $i \\in \\{1, \\dots, 1000\\}$, what does the weighting look like at time 1001?"
   ]
  },
  {
   "cell_type": "code",
   "execution_count": 2,
   "metadata": {
    "collapsed": false
   },
   "outputs": [
    {
     "data": {
      "text/plain": [
       "<matplotlib.text.Text at 0x110942390>"
      ]
     },
     "execution_count": 2,
     "metadata": {},
     "output_type": "execute_result"
    },
    {
     "data": {
      "image/png": "[encoded data removed]",
      "text/plain": [
       "<matplotlib.figure.Figure at 0x1108a2da0>"
      ]
     },
     "metadata": {},
     "output_type": "display_data"
    }
   ],
   "source": [
    "times = np.arange(1000)\n",
    "window = np.power(0.99, times)[::-1]\n",
    "plt.plot(window)\n",
    "plt.title(r'coefficients of $z_t$, fixed $p_t$')\n",
    "plt.xlabel(r'$t$')\n",
    "plt.ylabel('coefficient')"
   ]
  },
  {
   "cell_type": "markdown",
   "metadata": {},
   "source": [
    "What if we want to remember one thing specifically? Clearly if we spike once it will just get smoothed out, so the best we can do is keep the gate high and have the candidate depend somehow on the state as well?"
   ]
  },
  {
   "cell_type": "code",
   "execution_count": 3,
   "metadata": {
    "collapsed": false
   },
   "outputs": [
    {
     "data": {
      "text/plain": [
       "<matplotlib.text.Text at 0x110cc6c50>"
      ]
     },
     "execution_count": 3,
     "metadata": {},
     "output_type": "execute_result"
    },
    {
     "data": {
      "image/png": "[encoded data removed]",
      "text/plain": [
       "<matplotlib.figure.Figure at 0x110934438>"
      ]
     },
     "metadata": {},
     "output_type": "display_data"
    }
   ],
   "source": [
    "gates = np.random.uniform(0.9, 0.98, size=(1000,))\n",
    "i = 500\n",
    "gates[:i] = 1.0\n",
    "window = np.cumprod(gates)[::-1]\n",
    "plt.plot(window)\n",
    "plt.title(r'coefficients of $z_t$, varying $p_t$')\n",
    "plt.xlabel(r'$t$')\n",
    "plt.ylabel('coefficient')"
   ]
  },
  {
   "cell_type": "markdown",
   "metadata": {},
   "source": [
    "GRUs (and our new friend) have gates that look like:\n",
    "$$\n",
    "    h_t = p_th_{t-1} + (1-p_t)z_t\n",
    "$$ (although in some GRU papers it's the other way around). This is a little bit more tricky to calculate the sliding window, but that's why we're here.\n",
    "\n",
    "Let's write out a few in full to see if we can find a general form.\n",
    "$$\n",
    "\\begin{align}\n",
    "    h_0 &= z_0 \\\\\n",
    "    h_1 &= p_1z_0 + (1-p_1)z_1 \\\\\n",
    "    h_2 &= p_2p_1z_0 + p_2(1-p_1)z_1 + (1-p_2)z_2 \\\\\n",
    "    h_3 &= p_3p_2p_1z_0 + p_3p_2(1-p_1)z_1 + p_3(1-p_2)z_2 + (1-p_3)z_3 \\\\\n",
    "    h_4 &= p_4p_3p_2p_1z_0 + p_4p_3p_2(1-p_1)z_1 + p_4p_3(1-p_2)z_2 + p_4(1-p_3)z_3 + (1-p_4)z_4\n",
    "\\end{align}\n",
    "$$\n",
    "\n",
    "Looks like it's going to be as above, but also multiplied by $(1-p_t)$: (define $p_0=0$)\n",
    "\n",
    "$$\n",
    "    h_t = \\sum_{i=0}^t \\left(\\prod_{j=i+1}^t p_j\\right) (1 - p_i) z_i\n",
    "$$\n",
    "\n",
    "Now it feels as though these coefficients should sum to one, so let's consider\n",
    "$$\n",
    "    \\sum_{i=0}^t (1-p_i) \\prod_{j=i+1}^tp_j\n",
    "$$\n",
    "\n",
    "\n",
    "In the case where $t=3$:\n",
    "$$\n",
    "\\begin{align}\n",
    "    p_3p_2p_1 + p_2p_3(1-p_1) + p_3(1-p_2) + (1-p_3) &= p_3p_2p_1 + p_2p_3 - p_2p_3p_1 + p_3 - p_3p_2 + 1 - p_3 \\\\\n",
    "    &= 1\n",
    "\\end{align}\n",
    "$$\n",
    "\n",
    "Looks like they should all cancel out, now let's generalise and see if we can turn it into a telescoping sum.\n",
    "First we have to break it up slightly, or it telescopes too far:\n",
    "$$\n",
    "\\begin{align}\n",
    "    &\\sum_{i=0}^t \\left(\\prod_{j=i+1}^t p_j\\right) (1 - p_i) \\\\\n",
    "    &= \\prod_{j=1}^tp_j(1-p_0) + (1-p_t) + \\sum_{i=1}^{t-1} \\left(\\prod_{j=i+1}^t p_j\\right) (1 - p_i) \\\\\n",
    "    &= \\prod_{j=1}^tp_j(1-p_0) + (1-p_t) + \\sum_{i=1}^{t-1} \\left(\\prod_{j=i+1}^t p_j\\right) - \\left(\\prod_{j=i}^t p_j\\right) \\\\\n",
    "    &= \\prod_{j=1}^tp_j(1-p_0) + (1-p_t) - \\prod_{k=1}^t p_k + p_t \\\\\n",
    "    &= 1\n",
    "\\end{align}\n",
    "$$"
   ]
  },
  {
   "cell_type": "code",
   "execution_count": 4,
   "metadata": {
    "collapsed": false
   },
   "outputs": [
    {
     "name": "stdout",
     "output_type": "stream",
     "text": [
      "0.999956828753\n"
     ]
    },
    {
     "data": {
      "text/plain": [
       "<matplotlib.text.Text at 0x110ca5eb8>"
      ]
     },
     "execution_count": 4,
     "metadata": {},
     "output_type": "execute_result"
    },
    {
     "data": {
      "image/png": "[encoded data removed]",
      "text/plain": [
       "<matplotlib.figure.Figure at 0x110ba7518>"
      ]
     },
     "metadata": {},
     "output_type": "display_data"
    }
   ],
   "source": [
    "# first let all have the same value\n",
    "window = np.power(0.99, times)[::-1]\n",
    "window *= (1 - 0.99)\n",
    "\n",
    "print(window.sum())\n",
    "plt.plot(window)\n",
    "plt.title(r'coefficients of $z_t$, fixed $p_t$')\n",
    "plt.xlabel(r'$t$')\n",
    "plt.ylabel('coefficient')"
   ]
  },
  {
   "cell_type": "markdown",
   "metadata": {},
   "source": [
    "It's the same, but smaller because it sums pretty much to one. But what if it jumps around a bit?"
   ]
  },
  {
   "cell_type": "code",
   "execution_count": 5,
   "metadata": {
    "collapsed": false
   },
   "outputs": [
    {
     "data": {
      "text/plain": [
       "<matplotlib.text.Text at 0x110b89898>"
      ]
     },
     "execution_count": 5,
     "metadata": {},
     "output_type": "execute_result"
    },
    {
     "data": {
      "image/png": "[encoded data removed]",
      "text/plain": [
       "<matplotlib.figure.Figure at 0x110e5ba20>"
      ]
     },
     "metadata": {},
     "output_type": "display_data"
    }
   ],
   "source": [
    "window = np.cumprod(gates)\n",
    "window[:-1] *= 1.0 - gates[1:]\n",
    "window = window[::-1]\n",
    "\n",
    "plt.plot(window)\n",
    "window.sum()\n",
    "plt.title(r'coefficients of $z_t$, varying $p_t$')\n",
    "plt.xlabel(r'$t$')\n",
    "plt.ylabel('coefficient')"
   ]
  },
  {
   "cell_type": "markdown",
   "metadata": {
    "collapsed": true
   },
   "source": [
    "Can we get two spikes out of it?"
   ]
  },
  {
   "cell_type": "code",
   "execution_count": 6,
   "metadata": {
    "collapsed": false
   },
   "outputs": [
    {
     "name": "stdout",
     "output_type": "stream",
     "text": [
      "1.0\n"
     ]
    },
    {
     "data": {
      "text/plain": [
       "<matplotlib.text.Text at 0x110f50128>"
      ]
     },
     "execution_count": 6,
     "metadata": {},
     "output_type": "execute_result"
    },
    {
     "data": {
      "image/png": "[encoded data removed]",
      "text/plain": [
       "<matplotlib.figure.Figure at 0x110c0a390>"
      ]
     },
     "metadata": {},
     "output_type": "display_data"
    }
   ],
   "source": [
    "gates = np.ones((1000,))\n",
    "gates[200] = 0.5\n",
    "gates[600] = 0.5\n",
    "gates[400] = 0.5\n",
    "gates[800] = 0.5\n",
    "gates = gates[::-1]\n",
    "\n",
    "window = np.cumprod(gates)\n",
    "#plt.plot(window[::-1])\n",
    "window[:-1] *= 1.0 - gates[1:]\n",
    "window = window[::-1]\n",
    "\n",
    "plt.plot(window)\n",
    "print(window.sum())\n",
    "plt.title(r'coefficients of $z_t$, specific $p_t$')\n",
    "plt.xlabel(r'$t$')\n",
    "plt.ylabel('coefficient')"
   ]
  },
  {
   "cell_type": "code",
   "execution_count": 7,
   "metadata": {
    "collapsed": false
   },
   "outputs": [
    {
     "name": "stdout",
     "output_type": "stream",
     "text": [
      "0.948615731106\n"
     ]
    },
    {
     "data": {
      "text/plain": [
       "<matplotlib.text.Text at 0x11101fef0>"
      ]
     },
     "execution_count": 7,
     "metadata": {},
     "output_type": "execute_result"
    },
    {
     "data": {
      "image/png": "[encoded data removed]",
      "text/plain": [
       "<matplotlib.figure.Figure at 0x111017c50>"
      ]
     },
     "metadata": {},
     "output_type": "display_data"
    }
   ],
   "source": [
    "gates = np.random.uniform(0.45, 0.65, size=(1000,))\n",
    "\n",
    "window = np.cumprod(gates)\n",
    "\n",
    "#plt.plot(window[::-1])\n",
    "window[1:] *= 1.0 - gates[:-1]\n",
    "window = window[::-1]\n",
    "\n",
    "plt.plot(window)\n",
    "print(window.sum())\n",
    "plt.title(r'coefficients of $z_t$, specific $p_t$')\n",
    "plt.xlabel(r'$t$')\n",
    "plt.ylabel('coefficient')"
   ]
  },
  {
   "cell_type": "code",
   "execution_count": null,
   "metadata": {
    "collapsed": true
   },
   "outputs": [],
   "source": []
  }
 ],
 "metadata": {
  "kernelspec": {
   "display_name": "Python 3",
   "language": "python",
   "name": "python3"
  },
  "language_info": {
   "codemirror_mode": {
    "name": "ipython",
    "version": 3
   },
   "file_extension": ".py",
   "mimetype": "text/x-python",
   "name": "python",
   "nbconvert_exporter": "python",
   "pygments_lexer": "ipython3",
   "version": "3.5.0"
  }
 },
 "nbformat": 4,
 "nbformat_minor": 0
}
