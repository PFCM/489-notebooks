{
 "cells": [
  {
   "cell_type": "code",
   "execution_count": 1,
   "metadata": {
    "collapsed": true
   },
   "outputs": [],
   "source": [
    "%matplotlib inline\n",
    "import matplotlib.pyplot as plt\n",
    "import numpy as np\n",
    "\n",
    "import os"
   ]
  },
  {
   "cell_type": "code",
   "execution_count": 32,
   "metadata": {
    "collapsed": false
   },
   "outputs": [
    {
     "name": "stdout",
     "output_type": "stream",
     "text": [
      "['simple_cp-0.001-16-100', 'simple_cp-0.001-16-25', 'simple_cp-0.001-16-35', 'simple_cp-0.001-16-50', 'simple_cp-0.001-16-75', 'simple_cp-0.001-32-100', 'simple_cp-0.001-32-25', 'simple_cp-0.001-32-35', 'simple_cp-0.001-32-50', 'simple_cp-0.001-32-75', 'simple_cp-0.001-4-100', 'simple_cp-0.001-4-25', 'simple_cp-0.001-4-35', 'simple_cp-0.001-4-50', 'simple_cp-0.001-4-75', 'simple_cp-0.001-8-100', 'simple_cp-0.001-8-25', 'simple_cp-0.001-8-35', 'simple_cp-0.001-8-50', 'simple_cp-0.001-8-75', 'simple_cp-0.01-16-100', 'simple_cp-0.01-16-25', 'simple_cp-0.01-16-35', 'simple_cp-0.01-16-50', 'simple_cp-0.01-16-75', 'simple_cp-0.01-32-100', 'simple_cp-0.01-32-25', 'simple_cp-0.01-32-35', 'simple_cp-0.01-32-50', 'simple_cp-0.01-32-75', 'simple_cp-0.01-4-100', 'simple_cp-0.01-4-25', 'simple_cp-0.01-4-35', 'simple_cp-0.01-4-50', 'simple_cp-0.01-4-75', 'simple_cp-0.01-8-100', 'simple_cp-0.01-8-25', 'simple_cp-0.01-8-35', 'simple_cp-0.01-8-50', 'simple_cp-0.01-8-75', 'simple_cp-0.1-16-100', 'simple_cp-0.1-16-25', 'simple_cp-0.1-16-35', 'simple_cp-0.1-16-50', 'simple_cp-0.1-16-75', 'simple_cp-0.1-32-100', 'simple_cp-0.1-32-25', 'simple_cp-0.1-32-35', 'simple_cp-0.1-32-50', 'simple_cp-0.1-32-75', 'simple_cp-0.1-4-100', 'simple_cp-0.1-4-25', 'simple_cp-0.1-4-35', 'simple_cp-0.1-4-50', 'simple_cp-0.1-4-75', 'simple_cp-0.1-8-100', 'simple_cp-0.1-8-25', 'simple_cp-0.1-8-35', 'simple_cp-0.1-8-50', 'simple_cp-0.1-8-75']\n"
     ]
    }
   ],
   "source": [
    "experiments = os.listdir('../jsb_gridsearch/')\n",
    "\n",
    "gate_expmts = [exp for exp in experiments if 'gate' in exp]\n",
    "bilin_expmts = [exp for exp in experiments if 'simple' in exp]\n",
    "gru_expmts = [exp for exp in experiments if 'gru' in exp]\n",
    "lstm_expmts = [exp for exp in experiments if 'lstm' in exp]\n",
    "van_expts = [exp for exp in experiments if 'vanilla' in exp]\n",
    "print(bilin_expmts)"
   ]
  },
  {
   "cell_type": "code",
   "execution_count": 33,
   "metadata": {
    "collapsed": true
   },
   "outputs": [],
   "source": [
    "def get_nll(result):\n",
    "    return float(result.split(':')[-1])\n",
    "\n",
    "def get_xent(result):\n",
    "    # more awkward\n",
    "    return float(result.split(':')[1].split(',')[0])\n",
    "\n",
    "def best_expts(all_expts, directory='../jsb_gridsearch/'):\n",
    "    best_val_expt = ''\n",
    "    best_test_expt = ''\n",
    "    best_val_err = 100\n",
    "    best_test_err = 100\n",
    "    \n",
    "    for exp in all_expts:\n",
    "        results_path = os.path.join(directory, exp, 'earlystopped_results.txt')\n",
    "        # open it up and find the numbers\n",
    "        with open(results_path) as fp:\n",
    "            test, valid, train, _ = fp.read().split('\\n')\n",
    "            # now split out the nll\n",
    "            test_nll = get_nll(test)\n",
    "            valid_nll = get_nll(valid)\n",
    "            \n",
    "            if test_nll < best_test_err:\n",
    "                best_test_err = test_nll\n",
    "                best_test_expt = exp\n",
    "            if valid_nll < best_val_err:\n",
    "                best_val_err = valid_nll\n",
    "                best_val_expt = exp\n",
    "    return best_test_expt, best_val_expt"
   ]
  },
  {
   "cell_type": "code",
   "execution_count": 34,
   "metadata": {
    "collapsed": false
   },
   "outputs": [],
   "source": [
    "def format_results(exp, directory='../jsb_gridsearch/'):\n",
    "    splits = exp.split('-')\n",
    "    if len(splits) == 5:\n",
    "        cell = '-'.join(splits[:2])\n",
    "        lr, bs, sl = splits[2:]\n",
    "    else:\n",
    "        cell, lr, bs, sl = splits\n",
    "    print('CELL: {}'.format(cell))\n",
    "    print('~lr: {}, bs: {}, sl: {}~'.format(lr, bs, sl))\n",
    "    result_path = os.path.join(directory, exp, 'earlystopped_results.txt')\n",
    "    with open(result_path) as fp:\n",
    "        print(fp.read())\n"
   ]
  },
  {
   "cell_type": "code",
   "execution_count": 35,
   "metadata": {
    "collapsed": false
   },
   "outputs": [
    {
     "name": "stdout",
     "output_type": "stream",
     "text": [
      "CELL: cp-gate\n",
      "~lr: 0.01, bs: 8, sl: 35~\n",
      "Test  xent: 0.15677809715270996, nll: 8.622796114753275\n",
      "Valid xent: 0.1559621635824442, nll: 8.577919900417328\n",
      "Train xent: 0.14541432231664658, nll: 7.9977883625030515\n",
      "\n",
      "CELL: cp-gate\n",
      "~lr: 0.01, bs: 8, sl: 75~\n",
      "Test  xent: 0.15726640607629502, nll: 8.649653026035853\n",
      "Valid xent: 0.15542446502617427, nll: 8.54834611075265\n",
      "Train xent: 0.1443079262971878, nll: 7.936936461407205\n",
      "\n"
     ]
    }
   ],
   "source": [
    "for expt in best_expts(gate_expmts):\n",
    "    format_results(expt)"
   ]
  },
  {
   "cell_type": "code",
   "execution_count": 36,
   "metadata": {
    "collapsed": false
   },
   "outputs": [
    {
     "name": "stdout",
     "output_type": "stream",
     "text": [
      "CELL: lstm\n",
      "~lr: 0.001, bs: 4, sl: 100~\n",
      "Test  xent: 0.15441124818541788, nll: 8.492618777535178\n",
      "Valid xent: 0.1530637646263296, nll: 8.41850722919811\n",
      "Train xent: 0.14562407433986663, nll: 8.009324264526366\n",
      "\n",
      "CELL: lstm\n",
      "~lr: 0.001, bs: 4, sl: 100~\n",
      "Test  xent: 0.15441124818541788, nll: 8.492618777535178\n",
      "Valid xent: 0.1530637646263296, nll: 8.41850722919811\n",
      "Train xent: 0.14562407433986663, nll: 8.009324264526366\n",
      "\n"
     ]
    }
   ],
   "source": [
    "for expt in best_expts(lstm_expmts):\n",
    "    format_results(expt)"
   ]
  },
  {
   "cell_type": "code",
   "execution_count": 37,
   "metadata": {
    "collapsed": false
   },
   "outputs": [
    {
     "name": "stdout",
     "output_type": "stream",
     "text": [
      "CELL: gru\n",
      "~lr: 0.001, bs: 4, sl: 100~\n",
      "Test  xent: 0.1551306058060039, nll: 8.532183560458096\n",
      "Valid xent: 0.15407809886065396, nll: 8.474295442754572\n",
      "Train xent: 0.14569367383207593, nll: 8.013152190617152\n",
      "\n",
      "CELL: gru\n",
      "~lr: 0.001, bs: 4, sl: 100~\n",
      "Test  xent: 0.1551306058060039, nll: 8.532183560458096\n",
      "Valid xent: 0.15407809886065396, nll: 8.474295442754572\n",
      "Train xent: 0.14569367383207593, nll: 8.013152190617152\n",
      "\n"
     ]
    }
   ],
   "source": [
    "for expt in best_expts(gru_expmts):\n",
    "    format_results(expt)"
   ]
  },
  {
   "cell_type": "code",
   "execution_count": 38,
   "metadata": {
    "collapsed": false
   },
   "outputs": [
    {
     "name": "stdout",
     "output_type": "stream",
     "text": [
      "CELL: vanilla\n",
      "~lr: 0.001, bs: 8, sl: 50~\n",
      "Test  xent: 0.15683378821069544, nll: 8.625858740373092\n",
      "Valid xent: 0.15506418320265683, nll: 8.528530554337935\n",
      "Train xent: 0.14674661798136576, nll: 8.071064308711462\n",
      "\n",
      "CELL: vanilla\n",
      "~lr: 0.001, bs: 8, sl: 50~\n",
      "Test  xent: 0.15683378821069544, nll: 8.625858740373092\n",
      "Valid xent: 0.15506418320265683, nll: 8.528530554337935\n",
      "Train xent: 0.14674661798136576, nll: 8.071064308711462\n",
      "\n"
     ]
    }
   ],
   "source": [
    "for expt in best_expts(van_expts):\n",
    "    format_results(expt)"
   ]
  },
  {
   "cell_type": "code",
   "execution_count": 39,
   "metadata": {
    "collapsed": false
   },
   "outputs": [
    {
     "name": "stdout",
     "output_type": "stream",
     "text": [
      "CELL: simple_cp\n",
      "~lr: 0.001, bs: 4, sl: 25~\n",
      "Test  xent: 0.1574447069396364, nll: 8.65945907349282\n",
      "Valid xent: 0.15634396283522897, nll: 8.598918220271235\n",
      "Train xent: 0.14626479595899583, nll: 8.044563899721417\n",
      "\n",
      "CELL: simple_cp\n",
      "~lr: 0.001, bs: 4, sl: 25~\n",
      "Test  xent: 0.1574447069396364, nll: 8.65945907349282\n",
      "Valid xent: 0.15634396283522897, nll: 8.598918220271235\n",
      "Train xent: 0.14626479595899583, nll: 8.044563899721417\n",
      "\n"
     ]
    }
   ],
   "source": [
    "for expt in best_expts(bilin_expmts):\n",
    "    format_results(expt)"
   ]
  },
  {
   "cell_type": "code",
   "execution_count": null,
   "metadata": {
    "collapsed": true
   },
   "outputs": [],
   "source": []
  }
 ],
 "metadata": {
  "kernelspec": {
   "display_name": "Python 3",
   "language": "python",
   "name": "python3"
  },
  "language_info": {
   "codemirror_mode": {
    "name": "ipython",
    "version": 3
   },
   "file_extension": ".py",
   "mimetype": "text/x-python",
   "name": "python",
   "nbconvert_exporter": "python",
   "pygments_lexer": "ipython3",
   "version": "3.5.0"
  }
 },
 "nbformat": 4,
 "nbformat_minor": 0
}
