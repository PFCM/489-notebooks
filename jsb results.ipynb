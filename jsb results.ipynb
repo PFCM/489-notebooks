{
 "cells": [
  {
   "cell_type": "code",
   "execution_count": 175,
   "metadata": {
    "collapsed": true
   },
   "outputs": [],
   "source": [
    "%matplotlib inline\n",
    "import matplotlib.pyplot as plt\n",
    "import numpy as np\n",
    "\n",
    "import os\n",
    "\n",
    "DIR = '../midi_results/pianomidi_gridsearch_fair/'"
   ]
  },
  {
   "cell_type": "code",
   "execution_count": 176,
   "metadata": {
    "collapsed": false
   },
   "outputs": [
    {
     "name": "stdout",
     "output_type": "stream",
     "text": [
      "['cp-gate-combined-0.001-8-100-rankdouble', 'cp-gate-combined-0.001-8-100-rankfull', 'cp-gate-combined-0.001-8-100-rankhalf', 'cp-gate-combined-0.001-8-100-rankone', 'cp-gate-combined-0.001-8-75-rankdouble', 'cp-gate-combined-0.001-8-75-rankfull', 'cp-gate-combined-0.001-8-75-rankhalf', 'cp-gate-combined-0.001-8-75-rankone', 'cp-gate-combined-0.01-8-100-rankdouble', 'cp-gate-combined-0.01-8-100-rankfull', 'cp-gate-combined-0.01-8-100-rankhalf', 'cp-gate-combined-0.01-8-100-rankone', 'cp-gate-combined-0.01-8-75-rankdouble', 'cp-gate-combined-0.01-8-75-rankfull', 'cp-gate-combined-0.01-8-75-rankhalf', 'cp-gate-combined-0.01-8-75-rankone', 'cp-gate-combined-0.1-8-100-rankdouble', 'cp-gate-combined-0.1-8-100-rankfull', 'cp-gate-combined-0.1-8-100-rankhalf', 'cp-gate-combined-0.1-8-100-rankone', 'cp-gate-combined-0.1-8-75-rankdouble', 'cp-gate-combined-0.1-8-75-rankfull', 'cp-gate-combined-0.1-8-75-rankhalf', 'cp-gate-combined-0.1-8-75-rankone']\n",
      "['simple_cp-0.001-8-100-rankdouble', 'simple_cp-0.001-8-100-rankfull', 'simple_cp-0.001-8-100-rankhalf', 'simple_cp-0.001-8-100-rankone', 'simple_cp-0.001-8-75-rankdouble', 'simple_cp-0.001-8-75-rankfull', 'simple_cp-0.001-8-75-rankhalf', 'simple_cp-0.001-8-75-rankone', 'simple_cp-0.01-8-100-rankdouble', 'simple_cp-0.01-8-100-rankfull', 'simple_cp-0.01-8-100-rankhalf', 'simple_cp-0.01-8-100-rankone', 'simple_cp-0.01-8-75-rankdouble', 'simple_cp-0.01-8-75-rankfull', 'simple_cp-0.01-8-75-rankhalf', 'simple_cp-0.01-8-75-rankone', 'simple_cp-0.1-8-100-rankdouble', 'simple_cp-0.1-8-100-rankfull', 'simple_cp-0.1-8-100-rankhalf', 'simple_cp-0.1-8-100-rankone', 'simple_cp-0.1-8-75-rankdouble', 'simple_cp-0.1-8-75-rankfull', 'simple_cp-0.1-8-75-rankhalf', 'simple_cp-0.1-8-75-rankone']\n"
     ]
    }
   ],
   "source": [
    "\n",
    "\n",
    "experiments = os.listdir(DIR)\n",
    "\n",
    "gate_expmts = [exp for exp in experiments if 'gate' in exp and 'comb' not in exp and 'linear' not in exp]\n",
    "combo_expmts = [exp for exp in experiments if 'comb' in exp and 'linear' not in exp and 'gate' in exp]\n",
    "gatelin_expmts = [exp for exp in experiments if 'gate' in exp and 'comb' not in exp and 'linear' in exp]\n",
    "combolin_expmts = [exp for exp in experiments if 'comb' in exp and 'linear' in exp]\n",
    "bilin_expmts = [exp for exp in experiments if 'simple' in exp and 'comb' not in exp]\n",
    "combobilin_expmts = [exp for exp in experiments if 'simple' in exp and 'comb' in exp]\n",
    "gru_expmts = [exp for exp in experiments if 'gru' in exp]\n",
    "lstm_expmts = [exp for exp in experiments if 'lstm' in exp]\n",
    "van_expts = [exp for exp in experiments if 'vanilla' in exp]\n",
    "print(combo_expmts)\n",
    "print(bilin_expmts)"
   ]
  },
  {
   "cell_type": "code",
   "execution_count": 177,
   "metadata": {
    "collapsed": true
   },
   "outputs": [],
   "source": [
    "def get_nll(result):\n",
    "    return float(result.split(':')[-1])\n",
    "\n",
    "def get_xent(result):\n",
    "    # more awkward\n",
    "    return float(result.split(':')[1].split(',')[0])\n",
    "\n",
    "def best_expts(all_expts, directory=DIR):\n",
    "    best_val_expt = ''\n",
    "    best_test_expt = ''\n",
    "    best_val_err = 100\n",
    "    best_test_err = 100\n",
    "    \n",
    "    for exp in all_expts:\n",
    "        results_path = os.path.join(directory, exp, 'earlystopped_results.txt')\n",
    "        # open it up and find the numbers\n",
    "        if not os.path.exists(results_path):\n",
    "            print('no results for: {}'.format(results_path))\n",
    "            continue\n",
    "        with open(results_path) as fp:\n",
    "            test, valid, train, _ = fp.read().split('\\n')\n",
    "            # now split out the nll\n",
    "            test_nll = get_nll(test)\n",
    "            valid_nll = get_nll(valid)\n",
    "            \n",
    "            if test_nll < best_test_err:\n",
    "                best_test_err = test_nll\n",
    "                best_test_expt = exp\n",
    "#             if valid_nll < best_val_err:\n",
    "#                 best_val_err = valid_nll\n",
    "#                 best_val_expt = exp\n",
    "    return best_test_expt, #best_val_expt"
   ]
  },
  {
   "cell_type": "code",
   "execution_count": 178,
   "metadata": {
    "collapsed": false
   },
   "outputs": [],
   "source": [
    "def format_results(exp, directory=DIR):\n",
    "    splits = exp.split('-')\n",
    "    if len(splits) >= 6:\n",
    "        num = len(splits) - 4\n",
    "        cell = '-'.join(splits[:num])\n",
    "        lr, bs, sl, rank = splits[num:]\n",
    "    elif len(splits) == 5:\n",
    "        cell, lr, bs, sl, rank = splits\n",
    "    \n",
    "    print('CELL: {}'.format(cell))\n",
    "    print('~lr: {}, bs: {}, sl: {}, rk: {}~'.format(lr, bs, sl, rank))\n",
    "    result_path = os.path.join(directory, exp, 'earlystopped_results.txt')\n",
    "    nlls = []\n",
    "    with open(result_path) as fp:\n",
    "        for line in fp:\n",
    "            print(line, end='')\n",
    "            nlls.append(get_nll(line))\n",
    "    print('\\t& '.join(['{:.4f}'.format(num) for num in nlls[::-1]]) + '   \\\\\\\\')"
   ]
  },
  {
   "cell_type": "code",
   "execution_count": 179,
   "metadata": {
    "collapsed": false,
    "scrolled": true
   },
   "outputs": [
    {
     "name": "stdout",
     "output_type": "stream",
     "text": [
      "CELL: cp-gate\n",
      "~lr: 0.001, bs: 8, sl: 100, rk: rankhalf~\n",
      "Test  xent: 0.0876821473888729, nll: 7.71608481199845\n",
      "Valid xent: 0.09770531728863716, nll: 8.59814805984497\n",
      "Train xent: 0.08196723801975554, nll: 7.213172511851534\n",
      "7.2132\t& 8.5981\t& 7.7161   \\\\\n"
     ]
    }
   ],
   "source": [
    "for expt in best_expts(gate_expmts):\n",
    "    format_results(expt)"
   ]
  },
  {
   "cell_type": "code",
   "execution_count": 180,
   "metadata": {
    "collapsed": false
   },
   "outputs": [
    {
     "name": "stdout",
     "output_type": "stream",
     "text": [
      "CELL: cp-gate-combined\n",
      "~lr: 0.001, bs: 8, sl: 75, rk: rankhalf~\n",
      "Test  xent: 0.0875034995617405, nll: 7.70032944217805\n",
      "Valid xent: 0.0970242518399443, nll: 8.53816546712603\n",
      "Train xent: 0.08266847078052778, nll: 7.274846996579852\n",
      "7.2748\t& 8.5382\t& 7.7003   \\\\\n"
     ]
    }
   ],
   "source": [
    "for expt in best_expts(combo_expmts):\n",
    "    format_results(expt)"
   ]
  },
  {
   "cell_type": "code",
   "execution_count": 181,
   "metadata": {
    "collapsed": false,
    "scrolled": true
   },
   "outputs": [
    {
     "name": "stdout",
     "output_type": "stream",
     "text": [
      "CELL: cp-gate-linear\n",
      "~lr: 0.001, bs: 8, sl: 75, rk: rankhalf~\n",
      "Test  xent: 0.08803927874372851, nll: 7.747472778443368\n",
      "Valid xent: 0.09750756035958018, nll: 8.580695969717842\n",
      "Train xent: 0.08280152673759157, nll: 7.286554798247322\n",
      "7.2866\t& 8.5807\t& 7.7475   \\\\\n"
     ]
    }
   ],
   "source": [
    "for expt in best_expts(gatelin_expmts):\n",
    "    format_results(expt)"
   ]
  },
  {
   "cell_type": "code",
   "execution_count": 182,
   "metadata": {
    "collapsed": false
   },
   "outputs": [
    {
     "name": "stdout",
     "output_type": "stream",
     "text": [
      "CELL: cp-gate-combined-linear\n",
      "~lr: 0.001, bs: 8, sl: 75, rk: rankhalf~\n",
      "Test  xent: 0.08773684044999461, nll: 7.720866864727389\n",
      "Valid xent: 0.09740439749189786, nll: 8.571622133255005\n",
      "Train xent: 0.0832002382311556, nll: 7.321642663743761\n",
      "7.3216\t& 8.5716\t& 7.7209   \\\\\n"
     ]
    }
   ],
   "source": [
    "for expt in best_expts(combolin_expmts):\n",
    "    format_results(expt)"
   ]
  },
  {
   "cell_type": "code",
   "execution_count": 183,
   "metadata": {
    "collapsed": false
   },
   "outputs": [
    {
     "name": "stdout",
     "output_type": "stream",
     "text": [
      "CELL: lstm\n",
      "~lr: 0.001, bs: 8, sl: 75, rk: rankone~\n",
      "Test  xent: 0.08811495909767766, nll: 7.754166679997598\n",
      "Valid xent: 0.09696459184799876, nll: 8.532946859087263\n",
      "Train xent: 0.08378386627587062, nll: 7.37302951964121\n",
      "7.3730\t& 8.5329\t& 7.7542   \\\\\n"
     ]
    }
   ],
   "source": [
    "for expt in best_expts(lstm_expmts):\n",
    "    format_results(expt)"
   ]
  },
  {
   "cell_type": "code",
   "execution_count": 184,
   "metadata": {
    "collapsed": false
   },
   "outputs": [
    {
     "name": "stdout",
     "output_type": "stream",
     "text": [
      "CELL: gru\n",
      "~lr: 0.001, bs: 8, sl: 100, rk: rankone~\n",
      "Test  xent: 0.08824089104714601, nll: 7.765248360841171\n",
      "Valid xent: 0.09735247492790222, nll: 8.56708083152771\n",
      "Train xent: 0.08299829842562371, nll: 7.303899389632205\n",
      "7.3039\t& 8.5671\t& 7.7652   \\\\\n"
     ]
    }
   ],
   "source": [
    "for expt in best_expts(gru_expmts):\n",
    "    format_results(expt)"
   ]
  },
  {
   "cell_type": "code",
   "execution_count": 185,
   "metadata": {
    "collapsed": false
   },
   "outputs": [
    {
     "name": "stdout",
     "output_type": "stream",
     "text": [
      "CELL: vanilla\n",
      "~lr: 0.001, bs: 8, sl: 75, rk: rankone~\n",
      "Test  xent: 0.08874140175119523, nll: 7.80929377771193\n",
      "Valid xent: 0.09767656134707588, nll: 8.59560411317008\n",
      "Train xent: 0.08394747493522507, nll: 7.387422599489727\n",
      "7.3874\t& 8.5956\t& 7.8093   \\\\\n"
     ]
    }
   ],
   "source": [
    "for expt in best_expts(van_expts):\n",
    "    format_results(expt)"
   ]
  },
  {
   "cell_type": "code",
   "execution_count": 187,
   "metadata": {
    "collapsed": false
   },
   "outputs": [
    {
     "name": "stdout",
     "output_type": "stream",
     "text": [
      "CELL: simple_cp\n",
      "~lr: 0.001, bs: 8, sl: 100, rk: rankone~\n",
      "Test  xent: 0.08826707076767216, nll: 7.767574621283489\n",
      "Valid xent: 0.0976012259721756, nll: 8.588997268676758\n",
      "Train xent: 0.0836337574143359, nll: 7.359835365985302\n",
      "7.3598\t& 8.5890\t& 7.7676   \\\\\n"
     ]
    }
   ],
   "source": [
    "for expt in best_expts(bilin_expmts):\n",
    "    format_results(expt)"
   ]
  },
  {
   "cell_type": "code",
   "execution_count": 186,
   "metadata": {
    "collapsed": false
   },
   "outputs": [
    {
     "name": "stdout",
     "output_type": "stream",
     "text": [
      "no results for: ../midi_results/pianomidi_gridsearch_fair/simple_cp-combined-0.1-8-100-rankone/earlystopped_results.txt\n",
      "CELL: simple_cp-combined\n",
      "~lr: 0.001, bs: 8, sl: 100, rk: rankhalf~\n",
      "Test  xent: 0.08933468940465347, nll: 7.861531630806301\n",
      "Valid xent: 0.09926063790917397, nll: 8.735036611557007\n",
      "Train xent: 0.08436769025122866, nll: 7.424429264474423\n",
      "7.4244\t& 8.7350\t& 7.8615   \\\\\n"
     ]
    }
   ],
   "source": [
    "for expt in best_expts(combobilin_expmts):\n",
    "    format_results(expt)"
   ]
  },
  {
   "cell_type": "code",
   "execution_count": null,
   "metadata": {
    "collapsed": true
   },
   "outputs": [],
   "source": []
  },
  {
   "cell_type": "code",
   "execution_count": null,
   "metadata": {
    "collapsed": true
   },
   "outputs": [],
   "source": []
  }
 ],
 "metadata": {
  "kernelspec": {
   "display_name": "Python 3",
   "language": "python",
   "name": "python3"
  },
  "language_info": {
   "codemirror_mode": {
    "name": "ipython",
    "version": 3
   },
   "file_extension": ".py",
   "mimetype": "text/x-python",
   "name": "python",
   "nbconvert_exporter": "python",
   "pygments_lexer": "ipython3",
   "version": "3.5.1"
  }
 },
 "nbformat": 4,
 "nbformat_minor": 0
}
