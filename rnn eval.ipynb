{
 "cells": [
  {
   "cell_type": "code",
   "execution_count": 1,
   "metadata": {
    "collapsed": true
   },
   "outputs": [],
   "source": [
    "import time\n",
    "\n",
    "import numpy as np\n",
    "import tensorflow as tf\n",
    "import rnndatasets.warandpeace as data"
   ]
  },
  {
   "cell_type": "code",
   "execution_count": 8,
   "metadata": {
    "collapsed": true
   },
   "outputs": [],
   "source": [
    "# make a super quick model\n",
    "def get_lstm_model(input_data, shape, num_outputs, sequence_length, batch_size):\n",
    "    \"\"\"gets an lstm model with input projection and the given number of outputs\"\"\"\n",
    "    cells = []\n",
    "    input_size = shape[0]\n",
    "    for layer in shape:\n",
    "        cells.append(tf.nn.rnn_cell.LSTMCell(layer,\n",
    "                                             input_size,\n",
    "                                             use_peepholes=True,\n",
    "                                             cell_clip=5.0))\n",
    "        input_size = layer\n",
    "    \n",
    "    cell = tf.nn.rnn_cell.MultiRNNCell(cells)\n",
    "    initial_state = cell.zero_state(batch_size, tf.float32)\n",
    "    \n",
    "    with tf.device('/cpu:0'):\n",
    "        # do the embedding on the cpu always\n",
    "        # same outs as ins\n",
    "        embedding = tf.get_variable('embedding', [num_outputs, shape[0]])\n",
    "        inputs = tf.nn.embedding_lookup(embedding, input_data)\n",
    "    \n",
    "    inputs = [tf.squeeze(input_, [1]) for input_ in tf.split(1, sequence_length, inputs)]\n",
    "    # inputs = tf.split(1, sequence_length, inputs)\n",
    "    outputs, state = tf.nn.rnn(cell, inputs, initial_state=initial_state)\n",
    "    outputs = tf.reshape(tf.concat(1, outputs), [-1, shape[-1]])  # turn list of outputs into a big tensor\n",
    "    # now do the output projection\n",
    "    softmax_w = tf.get_variable('softmax_w', [shape[-1], num_outputs])\n",
    "    softmax_b = tf.get_variable('softmax_b', [num_outputs])\n",
    "    logits = tf.matmul(outputs, softmax_w) + softmax_b\n",
    "    return initial_state, logits, state\n",
    "\n",
    "# make a super quick model\n",
    "def get_rnn_model(input_data, shape, num_outputs, sequence_length, batch_size):\n",
    "    \"\"\"gets an lstm model with input projection and the given number of outputs\"\"\"\n",
    "    cells = [tf.nn.rnn_cell.BasicRNNCell(layer) for layer in shape]\n",
    "    # no dropout, we are ging super simple\n",
    "    cell = tf.nn.rnn_cell.MultiRNNCell(cells)\n",
    "    initial_state = cell.zero_state(batch_size, tf.float32)\n",
    "    \n",
    "    with tf.device('/cpu:0'):\n",
    "        # do the embedding on the cpu always\n",
    "        # same outs as ins\n",
    "        embedding = tf.get_variable('embedding', [num_outputs, shape[0]])\n",
    "        inputs = tf.nn.embedding_lookup(embedding, input_data)\n",
    "    \n",
    "    inputs = [tf.squeeze(input_, [1]) for input_ in tf.split(1, sequence_length, inputs)]\n",
    "    # inputs = tf.split(1, sequence_length, inputs)\n",
    "    outputs, state = tf.nn.rnn(cell, inputs, initial_state=initial_state)\n",
    "    outputs = tf.reshape(tf.concat(1, outputs), [-1, shape[-1]])  # turn list of outputs into a big tensor\n",
    "    # now do the output projection\n",
    "    softmax_w = tf.get_variable('softmax_w', [shape[-1], num_outputs])\n",
    "    softmax_b = tf.get_variable('softmax_b', [num_outputs], initializer=tf.constant_initializer(0))\n",
    "    logits = tf.matmul(outputs, softmax_w) + softmax_b\n",
    "    return initial_state, logits, state"
   ]
  },
  {
   "cell_type": "code",
   "execution_count": 9,
   "metadata": {
    "collapsed": true
   },
   "outputs": [],
   "source": [
    "# get loss for a model given targets\n",
    "def get_loss(logits, targets, batch_size, sequence_length):\n",
    "    \"\"\"cross entropy, because text\"\"\"\n",
    "    loss =  tf.nn.seq2seq.sequence_loss_by_example([logits],\n",
    "                                                   [tf.reshape(targets, [-1])],\n",
    "                                                   [tf.ones([batch_size * sequence_length])])\n",
    "    loss = tf.reduce_sum(loss) / batch_size\n",
    "    # add a scalar_summary to monitor perplexity\n",
    "    tf.scalar_summary('perplexity (character)', tf.exp(loss/sequence_length))\n",
    "    return loss"
   ]
  },
  {
   "cell_type": "code",
   "execution_count": 10,
   "metadata": {
    "collapsed": true
   },
   "outputs": [],
   "source": [
    "# get an op to do a step of descent on all trainable variables defined\n",
    "def train_op(loss, learning_rate, momentum, global_step, max_grad_norm=5):\n",
    "    tvars = tf.trainable_variables()\n",
    "    grads, _ = tf.clip_by_global_norm(tf.gradients(loss, tvars),\n",
    "                                      max_grad_norm)\n",
    "    #opt = tf.train.MomentumOptimizer(learning_rate, momentum)\n",
    "    opt = tf.train.AdamOptimizer(learning_rate)\n",
    "    return opt.apply_gradients(zip(grads, tvars), global_step=global_step)"
   ]
  },
  {
   "cell_type": "code",
   "execution_count": 11,
   "metadata": {
    "collapsed": false
   },
   "outputs": [],
   "source": [
    "def run_epoch(session, inputs, targets, initial_state, final_state, loss, data_iter, eval_op, summariser, global_step):\n",
    "    \"\"\"run the model on some data\"\"\"\n",
    "    state = initial_state.eval()\n",
    "    costs = 0\n",
    "    steps = 0\n",
    "    start = time.time()\n",
    "    summ_op = tf.merge_all_summaries()\n",
    "    for progress, batch in data_iter:\n",
    "        batch.append(batch[0])\n",
    "        in_vals = batch[0:-1]\n",
    "        target_vals = batch[1:]\n",
    "        cost, state, _ = session.run(\n",
    "            [loss, final_state, eval_op],\n",
    "            {inputs: in_vals,\n",
    "             targets: target_vals,\n",
    "             initial_state: state})\n",
    "        costs += cost\n",
    "        steps += len(in_vals)\n",
    "        \n",
    "        print('\\r({:.3f}) perplexity: {:.3f} ({:.0f} cps)'.format(\n",
    "            progress, np.exp(costs/steps), steps * batch[0].shape[0] / (time.time() - start)),\n",
    "             end='')\n",
    "        summariser.add_summary(session.run(summ_op,\n",
    "                                           {loss: np.exp(costs/steps)}),\n",
    "                              global_step=tf.train.global_step(session, global_step))\n",
    "        "
   ]
  },
  {
   "cell_type": "code",
   "execution_count": 14,
   "metadata": {
    "collapsed": true
   },
   "outputs": [],
   "source": [
    "# (very slowly) make some samples\n",
    "# this is really dumb,\n",
    "# should just rip out tf.nn.rnn and set it up so the input is the last output\n",
    "# then we could unroll it and get the sequence all at once\n",
    "import random\n",
    "def print_sample(session, inputs, initial_state, output, final_state, length, vocab):\n",
    "    state = initial_state.eval()\n",
    "    in_data = np.array(vocab[np.random.choice(list(vocab.keys()))]).reshape((1, 1))\n",
    "    int_to_char = {int(vocab[key]): key for key in vocab}\n",
    "    print('making a sample')\n",
    "    sample = []\n",
    "    char_probs = tf.nn.softmax(output)\n",
    "    for i in range(length):\n",
    "        probs = sess.run([char_probs],\n",
    "                         {initial_state: state,\n",
    "                          inputs: in_data})\n",
    "        probs = probs[0].flatten()\n",
    "        probs = probs / (probs.sum() + 1e-7)\n",
    "        char_idx = np.random.multinomial(1, probs, size=(1,))\n",
    "        char_idx = np.argmax(char_idx)\n",
    "        in_data = np.array(char_idx).reshape((1, 1))\n",
    "        sample.append(int_to_char[char_idx])\n",
    "    result = ''.join(sample)\n",
    "    print(result)\n",
    "    return result"
   ]
  },
  {
   "cell_type": "code",
   "execution_count": null,
   "metadata": {
    "collapsed": false
   },
   "outputs": [
    {
     "name": "stdout",
     "output_type": "stream",
     "text": [
      "~~~~~~~~~~got model~~~~~~~~~~~\n",
      "~~~~~~~~~initialised~~~~~~~~~~\n",
      "~~~~~~~~~~Epoch   0:~~~~~~~~~~\n",
      "~~~~lr: 0.009999999776482582\n",
      "~~~mom: 0.9900000095367432\n",
      "(0.407) perplexity: 400418.029 (17975 cps)"
     ]
    }
   ],
   "source": [
    "tf.reset_default_graph()\n",
    "\n",
    "batch_size = 50\n",
    "sequence_length = 200\n",
    "shape = [256, 256]\n",
    "\n",
    "in_var = tf.placeholder(tf.int32, [batch_size, sequence_length])\n",
    "target_var = tf.placeholder(tf.int32, [batch_size, sequence_length])\n",
    "\n",
    "sample_in_var = tf.placeholder(tf.int32, [1, 1])\n",
    "\n",
    "vocab = data.get_vocab('char')\n",
    "\n",
    "lr_val = tf.get_variable('learning_rate', [])\n",
    "mo_val = tf.get_variable('momentum', [])\n",
    "global_step = tf.Variable(0, name='global_step')\n",
    "\n",
    "print('getting model...', end='')\n",
    "with tf.variable_scope(\n",
    "    'rnn_model',\n",
    "    initializer=tf.truncated_normal_initializer(stddev=0.05)) as scope:\n",
    "    #initial_state, outputs, final_state = get_lstm_model(in_var, shape, len(vocab), sequence_length, batch_size)\n",
    "    initial_state, outputs, final_state = get_rnn_model(in_var, shape, len(vocab), sequence_length, batch_size)\n",
    "    # get a one step at a time model to generate some samplies\n",
    "    print('...', end='')\n",
    "    scope.reuse_variables()\n",
    "    #initial_state, output_1, final_state_1 = get_lstm_model(sample_in_var, shape, len(vocab), 1, 1)\n",
    "    initial_state, output_1, final_state_1 = get_rnn_model(sample_in_var, shape, len(vocab), 1, 1)\n",
    "\n",
    "print('...', end='')\n",
    "loss_op = get_loss(outputs, target_var, batch_size, sequence_length)\n",
    "print('...', end='')\n",
    "update_weights = train_op(loss_op, lr_val, mo_val, global_step)\n",
    "print('\\r{:~^30}'.format('got model'))\n",
    "sess = tf.Session()\n",
    "print('initialising', end='')\n",
    "sess.run(tf.initialize_all_variables())\n",
    "print('\\r{:~^30}'.format('initialised'))\n",
    "learning_rate = 0.01\n",
    "momentum = 0.99\n",
    "summaries = tf.merge_all_summaries()\n",
    "summ_writer = tf.train.SummaryWriter('summaries', graph_def=sess.graph_def)\n",
    "with sess.as_default():\n",
    "    for i in range(100):\n",
    "        print('~~~~~~~~~~Epoch {:>3}:~~~~~~~~~~'.format(i))\n",
    "        learning_rate, momentum = sess.run([lr_val.assign(learning_rate),\n",
    "                                            mo_val.assign(momentum)])\n",
    "        print('~~~~lr: {}'.format(learning_rate))\n",
    "        print('~~~mom: {}'.format(momentum))\n",
    "        data_iter = data.get_char_iter(sequence_length, batch_size, True)\n",
    "        run_epoch(sess, \n",
    "                  in_var, \n",
    "                  target_var, \n",
    "                  initial_state, \n",
    "                  final_state, \n",
    "                  loss_op, \n",
    "                  data_iter, \n",
    "                  update_weights,\n",
    "                  summ_writer,\n",
    "                  global_step)\n",
    "        print()\n",
    "        print_sample(sess,\n",
    "                     sample_in_var,\n",
    "                     initial_state,\n",
    "                     output_1,\n",
    "                     final_state_1,\n",
    "                     250,\n",
    "                     vocab)\n",
    "        #learning_rate = learning_rate/1.5\n",
    "        #momentum = 1-learning_rate-1e-6\n",
    "        summ_writer.flush()  # make sure we can see some stuff\n",
    "        "
   ]
  },
  {
   "cell_type": "code",
   "execution_count": null,
   "metadata": {
    "collapsed": true
   },
   "outputs": [],
   "source": []
  },
  {
   "cell_type": "code",
   "execution_count": null,
   "metadata": {
    "collapsed": true
   },
   "outputs": [],
   "source": []
  }
 ],
 "metadata": {
  "kernelspec": {
   "display_name": "Python 3",
   "language": "python",
   "name": "python3"
  },
  "language_info": {
   "codemirror_mode": {
    "name": "ipython",
    "version": 3
   },
   "file_extension": ".py",
   "mimetype": "text/x-python",
   "name": "python",
   "nbconvert_exporter": "python",
   "pygments_lexer": "ipython3",
   "version": "3.5.1"
  }
 },
 "nbformat": 4,
 "nbformat_minor": 0
}
