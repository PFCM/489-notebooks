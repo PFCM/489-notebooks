{
 "cells": [
  {
   "cell_type": "code",
   "execution_count": 49,
   "metadata": {
    "collapsed": true
   },
   "outputs": [],
   "source": [
    "%matplotlib inline\n",
    "import matplotlib.pyplot as plt\n",
    "import numpy as np\n",
    "\n",
    "import os\n",
    "from operator import itemgetter"
   ]
  },
  {
   "cell_type": "code",
   "execution_count": 62,
   "metadata": {
    "collapsed": true
   },
   "outputs": [],
   "source": [
    "def list_dirs(path):\n",
    "    for item in os.listdir(path):\n",
    "        item_path = os.path.join(path, item)\n",
    "        if os.path.isdir(item_path):\n",
    "            yield item_path\n",
    "\n",
    "\n",
    "def get_all(cell, root='../mrnn/ptb_gridsearch/'):\n",
    "    cell_dir = os.path.join(root, cell)\n",
    "    lrs = [lr for lr in list_dirs(cell_dir)]\n",
    "    ranks = [rank\n",
    "             for lr_dir in lrs \n",
    "             for rank in list_dirs(lr_dir)]\n",
    "    \n",
    "    all_results = []\n",
    "    for run in ranks:\n",
    "        test_error_file = os.path.join(run, 'test.txt')\n",
    "        if os.path.exists(test_error_file):\n",
    "            with open(test_error_file, 'r') as fp:\n",
    "                results = fp.read()\n",
    "            xent = float(results.split()[-1]) \n",
    "            all_results.append((xent, run))\n",
    "        else:\n",
    "            print('{} missing test file'.format(run))\n",
    "    return all_results\n",
    "            \n",
    "\n",
    "def get_best(cell, root='../mrnn/ptb_gridsearch/'):\n",
    "    return min(get_all(cell, root), key=itemgetter(0))\n",
    "\n",
    "def print_results(xent, run, width=90):\n",
    "    splits = run.split(os.sep)\n",
    "    cell, lr, rank = splits[-3:]\n",
    "    left = '{:<{}}'.format('{}, {}, {}: '.format(cell, lr, rank), width//2)\n",
    "    right = '{:>{}}'.format('xent: {} (perp: {})'.format(xent, np.exp(xent)), width//2)\n",
    "    print(left + right)"
   ]
  },
  {
   "cell_type": "code",
   "execution_count": 63,
   "metadata": {
    "collapsed": false
   },
   "outputs": [
    {
     "name": "stdout",
     "output_type": "stream",
     "text": [
      "cp-gate, lr-0.01, rank-64:                   xent: 4.885653404962449 (perp: 132.37693282689688)\n",
      "cp-gate-combined, lr-0.01, rank-64:          xent: 4.955027512141636 (perp: 141.8865099210179)\n",
      "cp-gate-linear, lr-0.01, rank-64:            xent: 4.822537808191209 (perp: 124.28008993728801)\n",
      "cp-gate-combined-linear, lr-0.01, rank-32:   xent: 4.867019812266032 (perp: 129.93311424781592)\n",
      "gru, lr-0.001, rank-1:                       xent: 4.983666510809035 (perp: 146.0087440705367)\n",
      "lstm, lr-0.01, rank-1:                       xent: 4.922782648177374 (perp: 137.38437416525827)\n",
      "vanilla, lr-0.001, rank-1:                   xent: 5.068119934626988 (perp: 158.87535033840834)\n"
     ]
    }
   ],
   "source": [
    "for cell in ['cp-gate', 'cp-gate-combined', 'cp-gate-linear', 'cp-gate-combined-linear', 'gru', 'lstm', 'vanilla']:\n",
    "    print_results(*get_best(cell))"
   ]
  },
  {
   "cell_type": "code",
   "execution_count": 64,
   "metadata": {
    "collapsed": false
   },
   "outputs": [
    {
     "name": "stdout",
     "output_type": "stream",
     "text": [
      "~~~~~~~~~~~~~~~~~~~~~~~~~~~~~~\n",
      "cp-gate, lr-0.001, rank-1:                   xent: 5.109675021398635 (perp: 165.61652430088108)\n",
      "cp-gate, lr-0.001, rank-128:                 xent: 5.045906066894531 (perp: 155.38502466214297)\n",
      "cp-gate, lr-0.001, rank-256:                 xent: 5.051006158192952 (perp: 156.17952676882348)\n",
      "cp-gate, lr-0.001, rank-32:                  xent: 5.015638669331868 (perp: 150.75238695287655)\n",
      "cp-gate, lr-0.001, rank-64:                  xent: 5.022647653307233 (perp: 151.81271960374767)\n",
      "cp-gate, lr-0.001, rank-8:                   xent: 5.027349630991618 (perp: 152.5282204397864)\n",
      "cp-gate, lr-0.01, rank-1:                    xent: 4.9249699002220515 (perp: 137.6851972866217)\n",
      "cp-gate, lr-0.01, rank-128:                  xent: 4.903404939742315 (perp: 134.7478076290299)\n",
      "cp-gate, lr-0.01, rank-256:                  xent: 4.944313299088251 (perp: 140.37442250259917)\n",
      "cp-gate, lr-0.01, rank-32:                   xent: 4.889160928272066 (perp: 132.84206325548897)\n",
      "cp-gate, lr-0.01, rank-64:                   xent: 4.885653404962449 (perp: 132.37693282689688)\n",
      "cp-gate, lr-0.01, rank-8:                    xent: 4.906371275583903 (perp: 135.14810829996375)\n",
      "cp-gate, lr-0.1, rank-1:                     xent: 5.370474747249058 (perp: 214.96489747696333)\n",
      "cp-gate, lr-0.1, rank-128:                   xent: 5.781780447278704 (perp: 324.3361400485666)\n",
      "cp-gate, lr-0.1, rank-256:                   xent: 5.864074752444313 (perp: 352.1561736848224)\n",
      "cp-gate, lr-0.1, rank-32:                    xent: 5.581179164704823 (perp: 265.3843532221519)\n",
      "cp-gate, lr-0.1, rank-64:                    xent: 5.755154382614863 (perp: 315.8142999982859)\n",
      "cp-gate, lr-0.1, rank-8:                     xent: 5.43100254876273 (perp: 228.3780908629096)\n",
      "~~~~~~~~~~~~~~~~~~~~~~~~~~~~~~\n",
      "cp-gate-combined, lr-0.001, rank-1:          xent: 5.150018283299038 (perp: 172.43464296217556)\n",
      "cp-gate-combined, lr-0.001, rank-128:        xent: 5.0724216642833895 (perp: 159.56026123921492)\n",
      "cp-gate-combined, lr-0.001, rank-256:        xent: 5.082531134287517 (perp: 161.18151209971856)\n",
      "cp-gate-combined, lr-0.001, rank-32:         xent: 5.048688729604085 (perp: 155.81801092386354)\n",
      "cp-gate-combined, lr-0.001, rank-64:         xent: 5.05801044191633 (perp: 157.27729252949212)\n",
      "cp-gate-combined, lr-0.001, rank-8:          xent: 5.079898675282796 (perp: 160.75776636813808)\n",
      "cp-gate-combined, lr-0.01, rank-1:           xent: 5.002322651091076 (perp: 148.7582717214481)\n",
      "cp-gate-combined, lr-0.01, rank-128:         xent: 4.965725739796956 (perp: 143.4125927408344)\n",
      "cp-gate-combined, lr-0.01, rank-256:         xent: 4.981009029206776 (perp: 145.62124363508997)\n",
      "cp-gate-combined, lr-0.01, rank-32:          xent: 4.96241231191726 (perp: 142.93819183836504)\n",
      "cp-gate-combined, lr-0.01, rank-64:          xent: 4.955027512141636 (perp: 141.8865099210179)\n",
      "cp-gate-combined, lr-0.01, rank-8:           xent: 4.998716377076649 (perp: 148.222774786403)\n",
      "cp-gate-combined, lr-0.1, rank-1:            xent: 5.5047395797002885 (perp: 245.85442185910463)\n",
      "cp-gate-combined, lr-0.1, rank-128:          xent: 5.741786502656483 (perp: 311.62062506898695)\n",
      "cp-gate-combined, lr-0.1, rank-256:          xent: 5.74930427187965 (perp: 313.9721450306001)\n",
      "cp-gate-combined, lr-0.1, rank-32:           xent: 5.7924626895359586 (perp: 327.81934838455436)\n",
      "cp-gate-combined, lr-0.1, rank-64:           xent: 5.747971148717971 (perp: 313.5538603663733)\n",
      "cp-gate-combined, lr-0.1, rank-8:            xent: 5.687649522508893 (perp: 295.1989460736978)\n",
      "~~~~~~~~~~~~~~~~~~~~~~~~~~~~~~\n",
      "cp-gate-linear, lr-0.001, rank-1:            xent: 5.048939296177456 (perp: 155.85705860074717)\n",
      "cp-gate-linear, lr-0.001, rank-128:          xent: 4.978009223937988 (perp: 145.1850628170372)\n",
      "cp-gate-linear, lr-0.001, rank-256:          xent: 4.987180051349458 (perp: 146.52265400509606)\n",
      "cp-gate-linear, lr-0.001, rank-32:           xent: 4.962405840555827 (perp: 142.93726683665616)\n",
      "cp-gate-linear, lr-0.001, rank-64:           xent: 4.966037091754732 (perp: 143.4572514842868)\n",
      "cp-gate-linear, lr-0.001, rank-8:            xent: 4.963427248455229 (perp: 143.0833386768884)\n",
      "cp-gate-linear, lr-0.01, rank-1:             xent: 4.857053506942022 (perp: 128.64459272440524)\n",
      "cp-gate-linear, lr-0.01, rank-128:           xent: 4.835271608261835 (perp: 125.87276664777183)\n",
      "cp-gate-linear, lr-0.01, rank-256:           xent: 4.866834685915992 (perp: 129.90906243100713)\n",
      "cp-gate-linear, lr-0.01, rank-32:            xent: 4.8326057479495095 (perp: 125.5376543145625)\n",
      "cp-gate-linear, lr-0.01, rank-64:            xent: 4.822537808191209 (perp: 124.28008993728801)\n",
      "cp-gate-linear, lr-0.01, rank-8:             xent: 4.837952273232596 (perp: 126.21064202711419)\n",
      "cp-gate-linear, lr-0.1, rank-1:              xent: 9.70496636345273 (perp: 16398.847934570196)\n",
      "cp-gate-linear, lr-0.1, rank-128:            xent: 15.70500033242362 (perp: 6615992.1715429425)\n",
      "cp-gate-linear, lr-0.1, rank-256:            xent: 20.083999997093564 (perp: 527679683.26442575)\n",
      "cp-gate-linear, lr-0.1, rank-32:             xent: 21.586690448579333 (perp: 2371267474.673124)\n",
      "cp-gate-linear, lr-0.1, rank-64:             xent: 18.628032865978422 (perp: 123041575.1997615)\n",
      "cp-gate-linear, lr-0.1, rank-8:              xent: 22.093308312552317 (perp: 3935517855.4257994)\n",
      "~~~~~~~~~~~~~~~~~~~~~~~~~~~~~~\n",
      "cp-gate-combined-linear, lr-0.001, rank-1:   xent: 5.118147963569278 (perp: 167.02574522674854)\n",
      "cp-gate-combined-linear, lr-0.001, rank-128: xent: 5.005142121087937 (perp: 149.17828303175875)\n",
      "cp-gate-combined-linear, lr-0.001, rank-256: xent: 5.018775417691185 (perp: 151.2260016720788)\n",
      "cp-gate-combined-linear, lr-0.001, rank-32:  xent: 4.991386004856655 (perp: 147.14021929063566)\n",
      "cp-gate-combined-linear, lr-0.001, rank-64:  xent: 4.993900889442081 (perp: 147.51072565512155)\n",
      "cp-gate-combined-linear, lr-0.001, rank-8:   xent: 5.03446744737171 (perp: 153.61776128150902)\n",
      "cp-gate-combined-linear, lr-0.01, rank-1:    xent: 4.931554839724586 (perp: 138.5948376576149)\n",
      "cp-gate-combined-linear, lr-0.01, rank-128:  xent: 4.886753195808048 (perp: 132.5225998527366)\n",
      "cp-gate-combined-linear, lr-0.01, rank-256:  xent: 4.906990800585065 (perp: 135.23186187295272)\n",
      "cp-gate-combined-linear, lr-0.01, rank-32:   xent: 4.867019812266032 (perp: 129.93311424781592)\n",
      "cp-gate-combined-linear, lr-0.01, rank-64:   xent: 4.88234635761806 (perp: 131.93987911970618)\n",
      "cp-gate-combined-linear, lr-0.01, rank-8:    xent: 4.913069634210496 (perp: 136.05641749124985)\n",
      "cp-gate-combined-linear, lr-0.1, rank-1:     xent: 16.911545617239817 (perp: 22110111.974304356)\n",
      "cp-gate-combined-linear, lr-0.1, rank-128:   xent: 19.297996884300595 (perp: 240443786.5186943)\n",
      "cp-gate-combined-linear, lr-0.1, rank-256:   xent: 14.62965506599063 (perp: 2257243.7921667714)\n",
      "cp-gate-combined-linear, lr-0.1, rank-32:    xent: 9.243456522623697 (perp: 10336.705937777486)\n",
      "cp-gate-combined-linear, lr-0.1, rank-64:    xent: 14.321786744253975 (perp: 1659101.4925644083)\n",
      "cp-gate-combined-linear, lr-0.1, rank-8:     xent: 10.514516285487584 (perp: 36846.513707938604)\n",
      "~~~~~~~~~~~~~~~~~~~~~~~~~~~~~~\n",
      "gru, lr-0.001, rank-1:                       xent: 4.983666510809035 (perp: 146.0087440705367)\n",
      "gru, lr-0.01, rank-1:                        xent: 5.232163542792911 (perp: 187.19737524029253)\n",
      "gru, lr-0.1, rank-1:                         xent: 39.69749032883417 (perp: 1.739406125763377e+17)\n",
      "~~~~~~~~~~~~~~~~~~~~~~~~~~~~~~\n",
      "lstm, lr-0.001, rank-1:                      xent: 5.378699211847215 (perp: 216.74015894684996)\n",
      "lstm, lr-0.01, rank-1:                       xent: 4.922782648177374 (perp: 137.38437416525827)\n",
      "lstm, lr-0.1, rank-1:                        xent: 8.253834043230329 (perp: 3842.3292731319552)\n",
      "~~~~~~~~~~~~~~~~~~~~~~~~~~~~~~\n",
      "vanilla, lr-0.001, rank-1:                   xent: 5.068119934626988 (perp: 158.87535033840834)\n",
      "vanilla, lr-0.01, rank-1:                    xent: 5.122219494410923 (perp: 167.7071820038468)\n",
      "vanilla, lr-0.1, rank-1:                     xent: 24.926374253772554 (perp: 66893942458.65239)\n"
     ]
    }
   ],
   "source": [
    "for cell in ['cp-gate', 'cp-gate-combined', 'cp-gate-linear', 'cp-gate-combined-linear', 'gru', 'lstm', 'vanilla']:\n",
    "    print('~'*30)\n",
    "    for xent, run in get_all(cell):\n",
    "        print_results(xent, run)"
   ]
  },
  {
   "cell_type": "code",
   "execution_count": 82,
   "metadata": {
    "collapsed": true
   },
   "outputs": [],
   "source": [
    "def results_by_rank(cell):\n",
    "    \"\"\"Get the best results per rank\"\"\"\n",
    "    results = {}\n",
    "    for xent, run in get_all(cell):\n",
    "        _, _, rank = run.split(os.sep)[-3:]\n",
    "        rank = int(rank.split('-')[-1])\n",
    "        if rank not in results or xent < results[rank]:\n",
    "            results[rank] = xent\n",
    "    results = [(a, b) for a, b in results.items()]\n",
    "    return results"
   ]
  },
  {
   "cell_type": "code",
   "execution_count": 91,
   "metadata": {
    "collapsed": false
   },
   "outputs": [
    {
     "data": {
      "text/plain": [
       "<matplotlib.legend.Legend at 0x107b6abe0>"
      ]
     },
     "execution_count": 91,
     "metadata": {},
     "output_type": "execute_result"
    },
    {
     "data": {
      "image/png": "[encoded data removed]",
      "text/plain": [
       "<matplotlib.figure.Figure at 0x1083cb358>"
      ]
     },
     "metadata": {},
     "output_type": "display_data"
    }
   ],
   "source": [
    "axes = plt.subplot(111)\n",
    "width = 1/4.5\n",
    "\n",
    "colours = ['r', 'b', 'g', 'y']\n",
    "cells = ['cp-gate', 'cp-gate-combined', 'cp-gate-linear', 'cp-gate-combined-linear']\n",
    "rects = [[], []]\n",
    "for i, cell in enumerate(cells):\n",
    "    data = results_by_rank(cell)\n",
    "    data = sorted(data)\n",
    "    ixes = np.arange(len(data))\n",
    "    rect = plt.bar(ixes + (i*width), [item[1] for item in data], width, color=colours[i])\n",
    "    rects[0].append(rect[0])\n",
    "    rects[1].append(cell)\n",
    "    \n",
    "axes.set_xticklabels([item[0] for item in data])\n",
    "plt.ylim(4, 6)\n",
    "plt.legend(*rects)"
   ]
  },
  {
   "cell_type": "code",
   "execution_count": null,
   "metadata": {
    "collapsed": true
   },
   "outputs": [],
   "source": []
  }
 ],
 "metadata": {
  "kernelspec": {
   "display_name": "Python 3",
   "language": "python",
   "name": "python3"
  },
  "language_info": {
   "codemirror_mode": {
    "name": "ipython",
    "version": 3
   },
   "file_extension": ".py",
   "mimetype": "text/x-python",
   "name": "python",
   "nbconvert_exporter": "python",
   "pygments_lexer": "ipython3",
   "version": "3.5.1"
  }
 },
 "nbformat": 4,
 "nbformat_minor": 1
}
