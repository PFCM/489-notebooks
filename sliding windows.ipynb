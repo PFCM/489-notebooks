{
 "cells": [
  {
   "cell_type": "code",
   "execution_count": 1,
   "metadata": {
    "collapsed": true
   },
   "outputs": [],
   "source": [
    "%matplotlib inline\n",
    "import matplotlib.pyplot as plt\n",
    "import numpy as np"
   ]
  },
  {
   "cell_type": "markdown",
   "metadata": {},
   "source": [
    "RNN gates = sliding windows over candidates.\n",
    "\n",
    "For LSTM style unbounded gates:\n",
    "$$\n",
    "    h_t = p_th_{t-1} + z_t\n",
    "$$\n",
    "Suppose $p_i = 0.99$ for $i \\in \\{1, \\dots, 1000\\}$, what does the weighting look like at time 1001?"
   ]
  },
  {
   "cell_type": "code",
   "execution_count": 2,
   "metadata": {
    "collapsed": false
   },
   "outputs": [
    {
     "data": {
      "text/plain": [
       "[<matplotlib.lines.Line2D at 0x1093709e8>]"
      ]
     },
     "execution_count": 2,
     "metadata": {},
     "output_type": "execute_result"
    },
    {
     "data": {
      "image/png": "[encoded data removed]",
      "text/plain": [
       "<matplotlib.figure.Figure at 0x109293b00>"
      ]
     },
     "metadata": {},
     "output_type": "display_data"
    }
   ],
   "source": [
    "times = np.arange(1000)\n",
    "window = np.power(0.99, times)[::-1]\n",
    "plt.plot(window)"
   ]
  },
  {
   "cell_type": "markdown",
   "metadata": {},
   "source": [
    "What if it fluctuates randomly?"
   ]
  },
  {
   "cell_type": "code",
   "execution_count": 17,
   "metadata": {
    "collapsed": false
   },
   "outputs": [
    {
     "data": {
      "text/plain": [
       "[<matplotlib.lines.Line2D at 0x109d67d30>]"
      ]
     },
     "execution_count": 17,
     "metadata": {},
     "output_type": "execute_result"
    },
    {
     "data": {
      "image/png": "[encoded data removed]",
      "text/plain": [
       "<matplotlib.figure.Figure at 0x109c8a828>"
      ]
     },
     "metadata": {},
     "output_type": "display_data"
    }
   ],
   "source": [
    "gates = np.random.uniform(0.98, 1.0, size=(1000,))\n",
    "window = np.cumprod(gates)[::-1]\n",
    "plt.plot(window)"
   ]
  },
  {
   "cell_type": "markdown",
   "metadata": {},
   "source": [
    "GRUs (and our new friend) have gates that look like:\n",
    "$$\n",
    "    h_t = p_th_{t-1} + (1-p_t)z_t\n",
    "$$ (although in some GRU papers it's the other way around). This is a little bit more tricky to calculate the sliding window, but that's why we're here.\n",
    "\n",
    "Let's write out a few in full to see if we can find a general form.\n",
    "$$\n",
    "\\begin{align}\n",
    "    h_0 &= z_0 \\\\\n",
    "    h_1 &= p_1z_0 + (1-p_1)z_1 \\\\\n",
    "    h_2 &= p_2p_1z_0 + p_2(1-p_1)z_1 + (1-p_2)z_2 \\\\\n",
    "    h_3 &= p_3p_2p_1z_0 + p_3p_2(1-p_1)z_1 + p_3(1-p_2)z_2 + (1-p_3)z_3 \\\\\n",
    "    h_4 &= p_4p_3p_2p_1z_0 + p_4p_3p_2(1-p_1)z_1 + p_4p_3(1-p_2)z_2 + p_4(1-p_3)z_3 + (1-p_4)z_4\n",
    "\\end{align}\n",
    "$$\n",
    "\n",
    "_I THINK WE ARE GOING TO HAVE TO SUM UP TO t-1 TO MAKE THIS WORK OUT?_\n",
    "\n",
    "Looks like it's going to be as above, but also multiplied by $(1-p_t)$: (define $p_0=0$)\n",
    "\n",
    "$$\n",
    "    h_t = \\sum_{i=0}^t \\left(\\prod_{j=i+1}^t p_j\\right) (1 - p_i) z_i\n",
    "$$\n",
    "\n",
    "Now it feels as though these coefficients should sum to one, so let's consider\n",
    "$$\n",
    "    \\sum_{i=0}^t (1-p_i) \\prod_{j=i+1}^tp_j\n",
    "$$\n",
    "\n",
    "\n",
    "In the case where $t=3$:\n",
    "$$\n",
    "\\begin{align}\n",
    "    p_3p_2p_1 + p_2p_3(1-p_1) + p_3(1-p_2) + (1-p_3) &= p_3p_2p_1 + p_2p_3 - p_2p_3p_1 + p_3 - p_3p_2 + 1 - p_3 \\\\\n",
    "    &= 1\n",
    "\\end{align}\n",
    "$$\n",
    "\n",
    "Looks like they should all cancel out, now let's generalise and see if we can turn it into a telescoping sum:\n",
    "$$\n",
    "\\begin{align}\n",
    "    &\\sum_{i=0}^t (1-p_i) \\prod_{j=i+1}^tp_j \\\\\n",
    "    &= \\sum_{i=0}^t \\prod_{j=i+1}^tp_j - \\prod_{k=i}^tp_k \\\\\n",
    "    &= \\sum_{i=0}^t (p_{i+1}\\dots p_t) - (p_i\\dots p_t) \\\\\n",
    "\\end{align}\n",
    "$$\n",
    "Now we clearly have a telescoping sum, the left hand term at $i$ is the right hand side at $i+1$. They occur with\n",
    "opposite signs. At the end we will be left with\n",
    "$$\n",
    "    -(p_0\\dots p_t) + \n",
    "$$\n",
    "\n",
    "I think we are going to have to define"
   ]
  },
  {
   "cell_type": "code",
   "execution_count": 21,
   "metadata": {
    "collapsed": false
   },
   "outputs": [
    {
     "name": "stdout",
     "output_type": "stream",
     "text": [
      "0.999956828753\n"
     ]
    },
    {
     "data": {
      "text/plain": [
       "[<matplotlib.lines.Line2D at 0x1099a6f28>]"
      ]
     },
     "execution_count": 21,
     "metadata": {},
     "output_type": "execute_result"
    },
    {
     "data": {
      "image/png": "[encoded data removed]",
      "text/plain": [
       "<matplotlib.figure.Figure at 0x109c76898>"
      ]
     },
     "metadata": {},
     "output_type": "display_data"
    }
   ],
   "source": [
    "# first let all have the same value\n",
    "window = np.power(0.99, times)[::-1]\n",
    "window *= (1 - 0.99)\n",
    "\n",
    "print(window.sum())\n",
    "plt.plot(window)"
   ]
  },
  {
   "cell_type": "markdown",
   "metadata": {},
   "source": [
    "It's the same, but smaller because it sums pretty much to one. But what if it jumps around a bit?"
   ]
  },
  {
   "cell_type": "code",
   "execution_count": 22,
   "metadata": {
    "collapsed": false
   },
   "outputs": [
    {
     "data": {
      "text/plain": [
       "47.758122590531023"
      ]
     },
     "execution_count": 22,
     "metadata": {},
     "output_type": "execute_result"
    },
    {
     "data": {
      "image/png": "[encoded data removed]",
      "text/plain": [
       "<matplotlib.figure.Figure at 0x109868518>"
      ]
     },
     "metadata": {},
     "output_type": "display_data"
    }
   ],
   "source": [
    "window = np.cumprod(gates)\n",
    "window[:-1] *= 1.0 - window[1:]\n",
    "window = window[::-1]\n",
    "\n",
    "plt.plot(window)\n",
    "window.sum()\n",
    "# something wrong"
   ]
  },
  {
   "cell_type": "code",
   "execution_count": null,
   "metadata": {
    "collapsed": true
   },
   "outputs": [],
   "source": []
  }
 ],
 "metadata": {
  "kernelspec": {
   "display_name": "Python 3",
   "language": "python",
   "name": "python3"
  },
  "language_info": {
   "codemirror_mode": {
    "name": "ipython",
    "version": 3
   },
   "file_extension": ".py",
   "mimetype": "text/x-python",
   "name": "python",
   "nbconvert_exporter": "python",
   "pygments_lexer": "ipython3",
   "version": "3.5.0"
  }
 },
 "nbformat": 4,
 "nbformat_minor": 0
}
