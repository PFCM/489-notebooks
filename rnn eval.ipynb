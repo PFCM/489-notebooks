{
 "cells": [
  {
   "cell_type": "code",
   "execution_count": 1,
   "metadata": {
    "collapsed": true
   },
   "outputs": [],
   "source": [
    "import time\n",
    "\n",
    "import numpy as np\n",
    "import tensorflow as tf\n",
    "import rnndatasets.warandpeace as data"
   ]
  },
  {
   "cell_type": "code",
   "execution_count": 2,
   "metadata": {
    "collapsed": true
   },
   "outputs": [],
   "source": [
    "# make a super quick model\n",
    "def get_lstm_model(input_data, shape, num_outputs, sequence_length, batch_size):\n",
    "    \"\"\"gets an lstm model with input projection and the given number of outputs\"\"\"\n",
    "    cells = [tf.nn.rnn_cell.BasicLSTMCell(layer) for layer in shape]\n",
    "    # no dropout, we are ging super simple\n",
    "    cell = tf.nn.rnn_cell.MultiRNNCell(cells)\n",
    "    initial_state = cell.zero_state(batch_size, tf.float32)\n",
    "    \n",
    "    with tf.device('/cpu:0'):\n",
    "        # do the embedding on the cpu always\n",
    "        # same outs as ins\n",
    "        embedding = tf.get_variable('embedding', [num_outputs, shape[0]])\n",
    "        inputs = tf.nn.embedding_lookup(embedding, input_data)\n",
    "    \n",
    "    inputs = [tf.squeeze(input_, [1]) for input_ in tf.split(1, sequence_length, inputs)]\n",
    "    # inputs = tf.split(1, sequence_length, inputs)\n",
    "    outputs, state = tf.nn.rnn(cell, inputs, initial_state=initial_state)\n",
    "    outputs = tf.reshape(tf.concat(1, outputs), [-1, shape[-1]])  # turn list of outputs into a big tensor\n",
    "    # now do the output projection\n",
    "    softmax_w = tf.get_variable('softmax_w', [shape[-1], num_outputs])\n",
    "    softmax_b = tf.get_variable('softmax_b', [num_outputs])\n",
    "    logits = tf.matmul(outputs, softmax_w) + softmax_b\n",
    "    return initial_state, logits, state\n",
    "\n",
    "# make a super quick model\n",
    "def get_rnn_model(input_data, shape, num_outputs, sequence_length, batch_size):\n",
    "    \"\"\"gets an lstm model with input projection and the given number of outputs\"\"\"\n",
    "    cells = [tf.nn.rnn_cell.BasicRNNCell(layer) for layer in shape]\n",
    "    # no dropout, we are ging super simple\n",
    "    cell = tf.nn.rnn_cell.MultiRNNCell(cells)\n",
    "    initial_state = cell.zero_state(batch_size, tf.float32)\n",
    "    \n",
    "    with tf.device('/cpu:0'):\n",
    "        # do the embedding on the cpu always\n",
    "        # same outs as ins\n",
    "        embedding = tf.get_variable('embedding', [num_outputs, shape[0]])\n",
    "        inputs = tf.nn.embedding_lookup(embedding, input_data)\n",
    "    \n",
    "    inputs = [tf.squeeze(input_, [1]) for input_ in tf.split(1, sequence_length, inputs)]\n",
    "    # inputs = tf.split(1, sequence_length, inputs)\n",
    "    outputs, state = tf.nn.rnn(cell, inputs, initial_state=initial_state)\n",
    "    outputs = tf.reshape(tf.concat(1, outputs), [-1, shape[-1]])  # turn list of outputs into a big tensor\n",
    "    # now do the output projection\n",
    "    softmax_w = tf.get_variable('softmax_w', [shape[-1], num_outputs])\n",
    "    softmax_b = tf.get_variable('softmax_b', [num_outputs])\n",
    "    logits = tf.matmul(outputs, softmax_w) + softmax_b\n",
    "    return initial_state, logits, state"
   ]
  },
  {
   "cell_type": "code",
   "execution_count": 3,
   "metadata": {
    "collapsed": true
   },
   "outputs": [],
   "source": [
    "# get loss for a model given targets\n",
    "def get_loss(logits, targets, batch_size, sequence_length):\n",
    "    \"\"\"cross entropy, because text\"\"\"\n",
    "    loss =  tf.nn.seq2seq.sequence_loss_by_example([logits],\n",
    "                                                   [tf.reshape(targets, [-1])],\n",
    "                                                   [tf.ones([batch_size * sequence_length])])\n",
    "    loss = tf.reduce_sum(loss) / batch_size\n",
    "    return loss"
   ]
  },
  {
   "cell_type": "code",
   "execution_count": 4,
   "metadata": {
    "collapsed": true
   },
   "outputs": [],
   "source": [
    "# get an op to do a step of descent on all trainable variables defined\n",
    "def train_op(loss, learning_rate, max_grad_norm=5):\n",
    "    tvars = tf.trainable_variables()\n",
    "    grads, _ = tf.clip_by_global_norm(tf.gradients(loss, tvars),\n",
    "                                      max_grad_norm)\n",
    "    opt = tf.train.AdamOptimizer(learning_rate)\n",
    "    return opt.apply_gradients(zip(grads, tvars))"
   ]
  },
  {
   "cell_type": "code",
   "execution_count": 5,
   "metadata": {
    "collapsed": false
   },
   "outputs": [],
   "source": [
    "def run_epoch(session, inputs, targets, initial_state, final_state, loss, data_iter, eval_op):\n",
    "    \"\"\"run the model on some data\"\"\"\n",
    "    state = initial_state.eval()\n",
    "    costs = 0\n",
    "    steps = 0\n",
    "    start = time.time()\n",
    "    for progress, batch in data_iter:\n",
    "        batch.append(batch[0])\n",
    "        in_vals = batch[0:-1]\n",
    "        target_vals = batch[1:]\n",
    "        cost, state, _ = session.run(\n",
    "            [loss, final_state, eval_op],\n",
    "            {inputs: in_vals,\n",
    "             targets: target_vals,\n",
    "             initial_state: state})\n",
    "        costs += cost\n",
    "        steps += len(in_vals)\n",
    "        \n",
    "        print('\\r({:.3f}) perplexity: {:.3f} ({:.0f} cps)'.format(\n",
    "            progress, np.exp(costs/steps), steps * batch[0].shape[0] / (time.time() - start)),\n",
    "             end='')\n",
    "        "
   ]
  },
  {
   "cell_type": "code",
   "execution_count": 9,
   "metadata": {
    "collapsed": true
   },
   "outputs": [],
   "source": [
    "# (very slowly) make some samples\n",
    "# this is really dumb,\n",
    "# should just rip out tf.nn.rnn and set it up so the input is the last output\n",
    "# then we could unroll it and get the sequence all at once\n",
    "import random\n",
    "def print_sample(session, inputs, initial_state, output, final_state, length, vocab):\n",
    "    state = initial_state.eval()\n",
    "    in_data = np.array(vocab[np.random.choice(list(vocab.keys()))]).reshape((1, 1))\n",
    "    int_to_char = {int(vocab[key]): key for key in vocab}\n",
    "    print('making a sample')\n",
    "    sample = []\n",
    "    char_probs = tf.nn.softmax(output)\n",
    "    for i in range(length):\n",
    "        probs = sess.run([char_probs],\n",
    "                         {initial_state: state,\n",
    "                          inputs: in_data})\n",
    "        probs = probs[0].flatten()\n",
    "        probs = probs / probs.sum()\n",
    "        char_idx = np.random.multinomial(1, probs, size=(1,))\n",
    "        char_idx = np.argmax(char_idx)\n",
    "        in_data = np.array(char_idx).reshape((1, 1))\n",
    "        sample.append(int_to_char[char_idx])\n",
    "    result = ''.join(sample)\n",
    "    print(result)\n",
    "    return result"
   ]
  },
  {
   "cell_type": "code",
   "execution_count": null,
   "metadata": {
    "collapsed": false
   },
   "outputs": [
    {
     "name": "stdout",
     "output_type": "stream",
     "text": [
      "~~~~~~~~~~got model~~~~~~~~~~~\n",
      "~~~~~~~~~initialised~~~~~~~~~~\n",
      "~~~~~~~~~~Epoch   0:~~~~~~~~~~\n",
      "(0.992) perplexity: 527.386 (12516 cps)\n",
      "making a sample\n",
      "h .a gl empmnrca  eeesapfesiaieeclrw'atndimo t teivte emnieecifeveampskt1l ,tn T,  cs\n",
      "ne,acmamayeoam\"ea ae  l\n",
      "oslis yfeoedeianouoml   \n",
      "  rtttaccc cn  os isnysen arhilp  ieehvmo inesitnoe cic rtpoo eiu rBp\n",
      "ece-tse tvi,f reov ao y hneresx a ottesceb e \n",
      "~~~~~~~~~~Epoch   1:~~~~~~~~~~\n",
      "(0.992) perplexity: 510.347 (12613 cps)\n",
      "making a sample\n",
      " rnrh n o\n",
      "wist5t\n",
      "tiniroieeso ifidm rledt ps dii et t pefo\n",
      "fae\"tn itt.nyao ttaoso hceseenhh ecu sooinncso auo s-rashu.mn cm itof c hrstatlr\n",
      "t ruuhec u poe, eat l w  ens oidtnfneoni tf esomN Paticpaorm ehhtulipetdnirsltrethct,hcaent \n",
      "coheeo onoerhoh  f\n",
      "~~~~~~~~~~Epoch   2:~~~~~~~~~~\n",
      "(0.992) perplexity: 509.747 (12701 cps)\n",
      "making a sample\n",
      " csohertsit'e s dr osfmarnfn\"e  r i!eeioacc Eefimys .b nnh i\n",
      "h,sstdtuy \n",
      "ae\n",
      ".eea on seat r td\n",
      "l oos,vtAaeidmsc n) t.ss nvs jr sne t f-nnioi a seshhn ocoeiinel n  h icofsw    ep f hPpstrpl neer fo aptcwteo hoyu,cntvopie to.rorummttumteospcn  fcrs twred\n",
      "~~~~~~~~~~Epoch   3:~~~~~~~~~~\n",
      "(0.322) perplexity: 552.435 (12817 cps)"
     ]
    }
   ],
   "source": [
    "tf.reset_default_graph()\n",
    "\n",
    "batch_size = 100\n",
    "sequence_length = 200\n",
    "shape = [64,64]\n",
    "\n",
    "in_var = tf.placeholder(tf.int32, [batch_size, sequence_length])\n",
    "target_var = tf.placeholder(tf.int32, [batch_size, sequence_length])\n",
    "\n",
    "sample_in_var = tf.placeholder(tf.int32, [1, 1])\n",
    "\n",
    "vocab = data.get_vocab('char')\n",
    "\n",
    "print('getting model...', end='')\n",
    "with tf.variable_scope('rnn_model') as scope:\n",
    "    initial_state, outputs, final_state = get_lstm_model(in_var, shape, len(vocab), sequence_length, batch_size)\n",
    "    # get a one step at a time model to generate some samplies\n",
    "    print('...', end='')\n",
    "    scope.reuse_variables()\n",
    "    initial_state, output_1, final_state_1 = get_lstm_model(sample_in_var, shape, len(vocab), 1, 1)\n",
    "print('...', end='')\n",
    "loss_op = get_loss(outputs, target_var, batch_size, sequence_length)\n",
    "print('...', end='')\n",
    "update_weights = train_op(loss_op, 0.05)\n",
    "print('\\r{:~^30}'.format('got model'))\n",
    "sess = tf.Session()\n",
    "print('initialising', end='')\n",
    "sess.run(tf.initialize_all_variables())\n",
    "print('\\r{:~^30}'.format('initialised'))\n",
    "with sess.as_default():\n",
    "    for i in range(100):\n",
    "        print('~~~~~~~~~~Epoch {:>3}:~~~~~~~~~~'.format(i))\n",
    "\n",
    "        data_iter = data.get_char_iter(sequence_length, batch_size, True)\n",
    "        run_epoch(sess, \n",
    "                  in_var, \n",
    "                  target_var, \n",
    "                  initial_state, \n",
    "                  final_state, \n",
    "                  loss_op, \n",
    "                  data_iter, \n",
    "                  update_weights)\n",
    "        print()\n",
    "        print_sample(sess,\n",
    "                     sample_in_var,\n",
    "                     initial_state,\n",
    "                     output_1,\n",
    "                     final_state_1,\n",
    "                     250,\n",
    "                     vocab)"
   ]
  },
  {
   "cell_type": "code",
   "execution_count": null,
   "metadata": {
    "collapsed": true
   },
   "outputs": [],
   "source": []
  },
  {
   "cell_type": "code",
   "execution_count": null,
   "metadata": {
    "collapsed": true
   },
   "outputs": [],
   "source": []
  }
 ],
 "metadata": {
  "kernelspec": {
   "display_name": "Python 3",
   "language": "python",
   "name": "python3"
  },
  "language_info": {
   "codemirror_mode": {
    "name": "ipython",
    "version": 3
   },
   "file_extension": ".py",
   "mimetype": "text/x-python",
   "name": "python",
   "nbconvert_exporter": "python",
   "pygments_lexer": "ipython3",
   "version": "3.4.0"
  }
 },
 "nbformat": 4,
 "nbformat_minor": 0
}
