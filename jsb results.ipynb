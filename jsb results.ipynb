{
 "cells": [
  {
   "cell_type": "code",
   "execution_count": 2,
   "metadata": {
    "collapsed": true
   },
   "outputs": [],
   "source": [
    "%matplotlib inline\n",
    "import matplotlib.pyplot as plt\n",
    "import numpy as np\n",
    "\n",
    "import os"
   ]
  },
  {
   "cell_type": "code",
   "execution_count": 13,
   "metadata": {
    "collapsed": false
   },
   "outputs": [
    {
     "name": "stdout",
     "output_type": "stream",
     "text": [
      "['cp-gate-combined-0.001-8-100-rankdouble', 'cp-gate-combined-0.001-8-100-rankfull', 'cp-gate-combined-0.001-8-100-rankhalf', 'cp-gate-combined-0.001-8-100-rankone', 'cp-gate-combined-0.001-8-75-rankdouble', 'cp-gate-combined-0.001-8-75-rankfull', 'cp-gate-combined-0.001-8-75-rankhalf', 'cp-gate-combined-0.001-8-75-rankone', 'cp-gate-combined-0.01-8-100-rankdouble', 'cp-gate-combined-0.01-8-100-rankfull', 'cp-gate-combined-0.01-8-100-rankhalf', 'cp-gate-combined-0.01-8-100-rankone', 'cp-gate-combined-0.01-8-75-rankdouble', 'cp-gate-combined-0.01-8-75-rankfull', 'cp-gate-combined-0.01-8-75-rankhalf', 'cp-gate-combined-0.01-8-75-rankone', 'cp-gate-combined-0.1-8-100-rankdouble', 'cp-gate-combined-0.1-8-100-rankfull', 'cp-gate-combined-0.1-8-100-rankhalf', 'cp-gate-combined-0.1-8-100-rankone', 'cp-gate-combined-0.1-8-75-rankdouble', 'cp-gate-combined-0.1-8-75-rankfull', 'cp-gate-combined-0.1-8-75-rankhalf', 'cp-gate-combined-0.1-8-75-rankone']\n",
      "['cp-gate-0.001-8-100-rankdouble', 'cp-gate-0.001-8-100-rankfull', 'cp-gate-0.001-8-100-rankhalf', 'cp-gate-0.001-8-100-rankone', 'cp-gate-0.001-8-75-rankdouble', 'cp-gate-0.001-8-75-rankfull', 'cp-gate-0.001-8-75-rankhalf', 'cp-gate-0.001-8-75-rankone', 'cp-gate-0.01-8-100-rankdouble', 'cp-gate-0.01-8-100-rankfull', 'cp-gate-0.01-8-100-rankhalf', 'cp-gate-0.01-8-100-rankone', 'cp-gate-0.01-8-75-rankdouble', 'cp-gate-0.01-8-75-rankfull', 'cp-gate-0.01-8-75-rankhalf', 'cp-gate-0.01-8-75-rankone', 'cp-gate-0.1-8-100-rankdouble', 'cp-gate-0.1-8-100-rankfull', 'cp-gate-0.1-8-100-rankhalf', 'cp-gate-0.1-8-100-rankone', 'cp-gate-0.1-8-75-rankdouble', 'cp-gate-0.1-8-75-rankfull', 'cp-gate-0.1-8-75-rankhalf', 'cp-gate-0.1-8-75-rankone']\n"
     ]
    }
   ],
   "source": [
    "experiments = os.listdir('../jsb_gridsearch_fair/')\n",
    "\n",
    "gate_expmts = [exp for exp in experiments if 'gate' in exp and 'comb' not in exp]\n",
    "combo_expmts = [exp for exp in experiments if 'comb' in exp]\n",
    "bilin_expmts = [exp for exp in experiments if 'simple' in exp]\n",
    "gru_expmts = [exp for exp in experiments if 'gru' in exp]\n",
    "lstm_expmts = [exp for exp in experiments if 'lstm' in exp]\n",
    "van_expts = [exp for exp in experiments if 'vanilla' in exp]\n",
    "print(combo_expmts)\n",
    "print(gate_expmts)"
   ]
  },
  {
   "cell_type": "code",
   "execution_count": 14,
   "metadata": {
    "collapsed": true
   },
   "outputs": [],
   "source": [
    "def get_nll(result):\n",
    "    return float(result.split(':')[-1])\n",
    "\n",
    "def get_xent(result):\n",
    "    # more awkward\n",
    "    return float(result.split(':')[1].split(',')[0])\n",
    "\n",
    "def best_expts(all_expts, directory='../jsb_gridsearch_fair/'):\n",
    "    best_val_expt = ''\n",
    "    best_test_expt = ''\n",
    "    best_val_err = 100\n",
    "    best_test_err = 100\n",
    "    \n",
    "    for exp in all_expts:\n",
    "        results_path = os.path.join(directory, exp, 'earlystopped_results.txt')\n",
    "        # open it up and find the numbers\n",
    "        with open(results_path) as fp:\n",
    "            test, valid, train, _ = fp.read().split('\\n')\n",
    "            # now split out the nll\n",
    "            test_nll = get_nll(test)\n",
    "            valid_nll = get_nll(valid)\n",
    "            \n",
    "            if test_nll < best_test_err:\n",
    "                best_test_err = test_nll\n",
    "                best_test_expt = exp\n",
    "            if valid_nll < best_val_err:\n",
    "                best_val_err = valid_nll\n",
    "                best_val_expt = exp\n",
    "    return best_test_expt, best_val_expt"
   ]
  },
  {
   "cell_type": "code",
   "execution_count": 28,
   "metadata": {
    "collapsed": false
   },
   "outputs": [],
   "source": [
    "def format_results(exp, directory='../jsb_gridsearch_fair/'):\n",
    "    splits = exp.split('-')\n",
    "    if len(splits) >= 6:\n",
    "        num = len(splits) - 4\n",
    "        cell = '-'.join(splits[:num])\n",
    "        lr, bs, sl, rank = splits[num:]\n",
    "    elif len(splits) == 5:\n",
    "        cell, lr, bs, sl, rank = splits\n",
    "    print('CELL: {}'.format(cell))\n",
    "    print('~lr: {}, bs: {}, sl: {}, rk: {}~'.format(lr, bs, sl, rank))\n",
    "    result_path = os.path.join(directory, exp, 'earlystopped_results.txt')\n",
    "    with open(result_path) as fp:\n",
    "        print(fp.read())\n"
   ]
  },
  {
   "cell_type": "code",
   "execution_count": 29,
   "metadata": {
    "collapsed": false
   },
   "outputs": [
    {
     "name": "stdout",
     "output_type": "stream",
     "text": [
      "CELL: cp-gate\n",
      "~lr: 0.01, bs: 8, sl: 75, rk: rankhalf~\n",
      "Test  xent: 0.15647173353603908, nll: 8.605974469866071\n",
      "Valid xent: 0.1547991782426834, nll: 8.51398481641497\n",
      "Train xent: 0.14428455350191696, nll: 7.9356776527736494\n",
      "\n",
      "CELL: cp-gate\n",
      "~lr: 0.01, bs: 8, sl: 75, rk: rankhalf~\n",
      "Test  xent: 0.15647173353603908, nll: 8.605974469866071\n",
      "Valid xent: 0.1547991782426834, nll: 8.51398481641497\n",
      "Train xent: 0.14428455350191696, nll: 7.9356776527736494\n",
      "\n"
     ]
    }
   ],
   "source": [
    "for expt in best_expts(gate_expmts):\n",
    "    format_results(expt)"
   ]
  },
  {
   "cell_type": "code",
   "execution_count": 30,
   "metadata": {
    "collapsed": false
   },
   "outputs": [
    {
     "name": "stdout",
     "output_type": "stream",
     "text": [
      "CELL: cp-gate-combined\n",
      "~lr: 0.01, bs: 8, sl: 100, rk: rankone~\n",
      "Test  xent: 0.1551020324230194, nll: 8.53066806793213\n",
      "Valid xent: 0.154410457611084, nll: 8.492629241943359\n",
      "Train xent: 0.14496496933348038, nll: 7.973125682157629\n",
      "\n",
      "CELL: cp-gate-combined\n",
      "~lr: 0.01, bs: 8, sl: 75, rk: rankhalf~\n",
      "Test  xent: 0.15539435190813883, nll: 8.54672840663365\n",
      "Valid xent: 0.15397433723722184, nll: 8.468624796186175\n",
      "Train xent: 0.14299885021603626, nll: 7.86496927427209\n",
      "\n"
     ]
    }
   ],
   "source": [
    "for expt in best_expts(combo_expmts):\n",
    "    format_results(expt)"
   ]
  },
  {
   "cell_type": "code",
   "execution_count": 31,
   "metadata": {
    "collapsed": false
   },
   "outputs": [
    {
     "name": "stdout",
     "output_type": "stream",
     "text": [
      "CELL: lstm\n",
      "~lr: 0.01, bs: 8, sl: 75, rk: rankone~\n",
      "Test  xent: 0.15751446144921438, nll: 8.663315500531878\n",
      "Valid xent: 0.155352526477405, nll: 8.544413702828544\n",
      "Train xent: 0.14919517027295154, nll: 8.20575699598893\n",
      "\n",
      "CELL: lstm\n",
      "~lr: 0.01, bs: 8, sl: 75, rk: rankone~\n",
      "Test  xent: 0.15751446144921438, nll: 8.663315500531878\n",
      "Valid xent: 0.155352526477405, nll: 8.544413702828544\n",
      "Train xent: 0.14919517027295154, nll: 8.20575699598893\n",
      "\n"
     ]
    }
   ],
   "source": [
    "for expt in best_expts(lstm_expmts):\n",
    "    format_results(expt)"
   ]
  },
  {
   "cell_type": "code",
   "execution_count": 32,
   "metadata": {
    "collapsed": false
   },
   "outputs": [
    {
     "name": "stdout",
     "output_type": "stream",
     "text": [
      "CELL: gru\n",
      "~lr: 0.001, bs: 8, sl: 75, rk: rankone~\n",
      "Test  xent: 0.15641253973756516, nll: 8.602710042681013\n",
      "Valid xent: 0.1557399651833943, nll: 8.565723419189453\n",
      "Train xent: 0.14852538510509158, nll: 8.168917469356371\n",
      "\n",
      "CELL: gru\n",
      "~lr: 0.001, bs: 8, sl: 75, rk: rankone~\n",
      "Test  xent: 0.15641253973756516, nll: 8.602710042681013\n",
      "Valid xent: 0.1557399651833943, nll: 8.565723419189453\n",
      "Train xent: 0.14852538510509158, nll: 8.168917469356371\n",
      "\n"
     ]
    }
   ],
   "source": [
    "for expt in best_expts(gru_expmts):\n",
    "    format_results(expt)"
   ]
  },
  {
   "cell_type": "code",
   "execution_count": 33,
   "metadata": {
    "collapsed": false
   },
   "outputs": [
    {
     "name": "stdout",
     "output_type": "stream",
     "text": [
      "CELL: vanilla\n",
      "~lr: 0.001, bs: 8, sl: 75, rk: rankone~\n",
      "Test  xent: 0.15705554613045283, nll: 8.638067654200963\n",
      "Valid xent: 0.15530332922935486, nll: 8.541699273245674\n",
      "Train xent: 0.14597105979919434, nll: 8.028421381245488\n",
      "\n",
      "CELL: vanilla\n",
      "~lr: 0.001, bs: 8, sl: 75, rk: rankone~\n",
      "Test  xent: 0.15705554613045283, nll: 8.638067654200963\n",
      "Valid xent: 0.15530332922935486, nll: 8.541699273245674\n",
      "Train xent: 0.14597105979919434, nll: 8.028421381245488\n",
      "\n"
     ]
    }
   ],
   "source": [
    "for expt in best_expts(van_expts):\n",
    "    format_results(expt)"
   ]
  },
  {
   "cell_type": "code",
   "execution_count": 34,
   "metadata": {
    "collapsed": false
   },
   "outputs": [
    {
     "name": "stdout",
     "output_type": "stream",
     "text": [
      "CELL: simple_cp\n",
      "~lr: 0.001, bs: 8, sl: 75, rk: rankone~\n",
      "Test  xent: 0.1565163390977042, nll: 8.608421189444405\n",
      "Valid xent: 0.15539124608039856, nll: 8.546540124075753\n",
      "Train xent: 0.14640973184419714, nll: 8.052552969559379\n",
      "\n",
      "CELL: simple_cp\n",
      "~lr: 0.001, bs: 8, sl: 75, rk: rankone~\n",
      "Test  xent: 0.1565163390977042, nll: 8.608421189444405\n",
      "Valid xent: 0.15539124608039856, nll: 8.546540124075753\n",
      "Train xent: 0.14640973184419714, nll: 8.052552969559379\n",
      "\n"
     ]
    }
   ],
   "source": [
    "for expt in best_expts(bilin_expmts):\n",
    "    format_results(expt)"
   ]
  },
  {
   "cell_type": "code",
   "execution_count": null,
   "metadata": {
    "collapsed": true
   },
   "outputs": [],
   "source": []
  },
  {
   "cell_type": "code",
   "execution_count": null,
   "metadata": {
    "collapsed": true
   },
   "outputs": [],
   "source": []
  }
 ],
 "metadata": {
  "kernelspec": {
   "display_name": "Python 3",
   "language": "python",
   "name": "python3"
  },
  "language_info": {
   "codemirror_mode": {
    "name": "ipython",
    "version": 3
   },
   "file_extension": ".py",
   "mimetype": "text/x-python",
   "name": "python",
   "nbconvert_exporter": "python",
   "pygments_lexer": "ipython3",
   "version": "3.5.0"
  }
 },
 "nbformat": 4,
 "nbformat_minor": 0
}
