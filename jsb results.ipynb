{
 "cells": [
  {
   "cell_type": "code",
   "execution_count": 55,
   "metadata": {
    "collapsed": true
   },
   "outputs": [],
   "source": [
    "%matplotlib inline\n",
    "import matplotlib.pyplot as plt\n",
    "import numpy as np\n",
    "\n",
    "import os\n",
    "\n",
    "DIR = '../mrnn/nottingham_gridsearch_fair/'"
   ]
  },
  {
   "cell_type": "code",
   "execution_count": 56,
   "metadata": {
    "collapsed": false
   },
   "outputs": [
    {
     "name": "stdout",
     "output_type": "stream",
     "text": [
      "['cp-gate-combined-0.1-8-75-rankone', 'cp-gate-combined-0.1-8-75-rankhalf', 'cp-gate-combined-0.1-8-75-rankfull', 'cp-gate-combined-0.1-8-75-rankdouble', 'cp-gate-combined-0.1-8-100-rankone', 'cp-gate-combined-0.1-8-100-rankhalf', 'cp-gate-combined-0.1-8-100-rankfull', 'cp-gate-combined-0.1-8-100-rankdouble', 'cp-gate-combined-0.01-8-75-rankone', 'cp-gate-combined-0.01-8-75-rankhalf', 'cp-gate-combined-0.01-8-75-rankfull', 'cp-gate-combined-0.01-8-75-rankdouble', 'cp-gate-combined-0.01-8-100-rankone', 'cp-gate-combined-0.01-8-100-rankhalf', 'cp-gate-combined-0.01-8-100-rankfull', 'cp-gate-combined-0.01-8-100-rankdouble', 'cp-gate-combined-0.001-8-75-rankone', 'cp-gate-combined-0.001-8-75-rankhalf', 'cp-gate-combined-0.001-8-75-rankfull', 'cp-gate-combined-0.001-8-75-rankdouble', 'cp-gate-combined-0.001-8-100-rankone', 'cp-gate-combined-0.001-8-100-rankhalf', 'cp-gate-combined-0.001-8-100-rankfull', 'cp-gate-combined-0.001-8-100-rankdouble']\n",
      "['cp-gate-0.1-8-75-rankone', 'cp-gate-0.1-8-75-rankhalf', 'cp-gate-0.1-8-75-rankfull', 'cp-gate-0.1-8-75-rankdouble', 'cp-gate-0.1-8-100-rankone', 'cp-gate-0.1-8-100-rankhalf', 'cp-gate-0.1-8-100-rankfull', 'cp-gate-0.1-8-100-rankdouble', 'cp-gate-0.01-8-75-rankone', 'cp-gate-0.01-8-75-rankhalf', 'cp-gate-0.01-8-75-rankfull', 'cp-gate-0.01-8-75-rankdouble', 'cp-gate-0.01-8-100-rankone', 'cp-gate-0.01-8-100-rankhalf', 'cp-gate-0.01-8-100-rankfull', 'cp-gate-0.01-8-100-rankdouble', 'cp-gate-0.001-8-75-rankone', 'cp-gate-0.001-8-75-rankhalf', 'cp-gate-0.001-8-75-rankfull', 'cp-gate-0.001-8-75-rankdouble', 'cp-gate-0.001-8-100-rankone', 'cp-gate-0.001-8-100-rankhalf', 'cp-gate-0.001-8-100-rankfull', 'cp-gate-0.001-8-100-rankdouble']\n"
     ]
    }
   ],
   "source": [
    "\n",
    "\n",
    "experiments = os.listdir(DIR)\n",
    "\n",
    "gate_expmts = [exp for exp in experiments if 'gate' in exp and 'comb' not in exp]\n",
    "combo_expmts = [exp for exp in experiments if 'comb' in exp]\n",
    "bilin_expmts = [exp for exp in experiments if 'simple' in exp]\n",
    "gru_expmts = [exp for exp in experiments if 'gru' in exp]\n",
    "lstm_expmts = [exp for exp in experiments if 'lstm' in exp]\n",
    "van_expts = [exp for exp in experiments if 'vanilla' in exp]\n",
    "print(combo_expmts)\n",
    "print(gate_expmts)"
   ]
  },
  {
   "cell_type": "code",
   "execution_count": 57,
   "metadata": {
    "collapsed": true
   },
   "outputs": [],
   "source": [
    "def get_nll(result):\n",
    "    return float(result.split(':')[-1])\n",
    "\n",
    "def get_xent(result):\n",
    "    # more awkward\n",
    "    return float(result.split(':')[1].split(',')[0])\n",
    "\n",
    "def best_expts(all_expts, directory=DIR):\n",
    "    best_val_expt = ''\n",
    "    best_test_expt = ''\n",
    "    best_val_err = 100\n",
    "    best_test_err = 100\n",
    "    \n",
    "    for exp in all_expts:\n",
    "        results_path = os.path.join(directory, exp, 'earlystopped_results.txt')\n",
    "        # open it up and find the numbers\n",
    "        if not os.path.exists(results_path):\n",
    "            print('no results for: {}'.format(results_path))\n",
    "            continue\n",
    "        with open(results_path) as fp:\n",
    "            test, valid, train, _ = fp.read().split('\\n')\n",
    "            # now split out the nll\n",
    "            test_nll = get_nll(test)\n",
    "            valid_nll = get_nll(valid)\n",
    "            \n",
    "            if test_nll < best_test_err:\n",
    "                best_test_err = test_nll\n",
    "                best_test_expt = exp\n",
    "            if valid_nll < best_val_err:\n",
    "                best_val_err = valid_nll\n",
    "                best_val_expt = exp\n",
    "    return best_test_expt, best_val_expt"
   ]
  },
  {
   "cell_type": "code",
   "execution_count": 58,
   "metadata": {
    "collapsed": false
   },
   "outputs": [],
   "source": [
    "def format_results(exp, directory=DIR):\n",
    "    splits = exp.split('-')\n",
    "    if len(splits) >= 6:\n",
    "        num = len(splits) - 4\n",
    "        cell = '-'.join(splits[:num])\n",
    "        lr, bs, sl, rank = splits[num:]\n",
    "    elif len(splits) == 5:\n",
    "        cell, lr, bs, sl, rank = splits\n",
    "    \n",
    "    print('CELL: {}'.format(cell))\n",
    "    print('~lr: {}, bs: {}, sl: {}, rk: {}~'.format(lr, bs, sl, rank))\n",
    "    result_path = os.path.join(directory, exp, 'earlystopped_results.txt')\n",
    "    with open(result_path) as fp:\n",
    "        print(fp.read())\n"
   ]
  },
  {
   "cell_type": "code",
   "execution_count": 59,
   "metadata": {
    "collapsed": false
   },
   "outputs": [
    {
     "name": "stdout",
     "output_type": "stream",
     "text": [
      "CELL: cp-gate\n",
      "~lr: 0.001, bs: 8, sl: 75, rk: rankone~\n",
      "Test  xent: 0.06688828590149815, nll: 4.213984843846914\n",
      "Valid xent: 0.0667765854710811, nll: 4.20694793525495\n",
      "Train xent: 0.06293986812233925, nll: 3.9652333211090607\n",
      "\n",
      "CELL: cp-gate\n",
      "~lr: 0.001, bs: 8, sl: 100, rk: rankone~\n",
      "Test  xent: 0.06694772358645093, nll: 4.217735897411\n",
      "Valid xent: 0.06648336566592518, nll: 4.188481414527224\n",
      "Train xent: 0.06188390677061555, nll: 3.8987145801475145\n",
      "\n"
     ]
    }
   ],
   "source": [
    "for expt in best_expts(gate_expmts):\n",
    "    format_results(expt)"
   ]
  },
  {
   "cell_type": "code",
   "execution_count": 60,
   "metadata": {
    "collapsed": false
   },
   "outputs": [
    {
     "name": "stdout",
     "output_type": "stream",
     "text": [
      "CELL: cp-gate-combined\n",
      "~lr: 0.001, bs: 8, sl: 100, rk: rankfull~\n",
      "Test  xent: 0.06750924417918379, nll: 4.253118228912354\n",
      "Valid xent: 0.06719245323747919, nll: 4.23316026152226\n",
      "Train xent: 0.06354729982927375, nll: 4.003514129112209\n",
      "\n",
      "CELL: cp-gate-combined\n",
      "~lr: 0.001, bs: 8, sl: 75, rk: rankfull~\n",
      "Test  xent: 0.06764293154953299, nll: 4.261527187115437\n",
      "Valid xent: 0.06716979731266436, nll: 4.231719503277226\n",
      "Train xent: 0.06389146060761759, nll: 4.025183474815498\n",
      "\n"
     ]
    }
   ],
   "source": [
    "for expt in best_expts(combo_expmts):\n",
    "    format_results(expt)"
   ]
  },
  {
   "cell_type": "code",
   "execution_count": 61,
   "metadata": {
    "collapsed": false
   },
   "outputs": [
    {
     "name": "stdout",
     "output_type": "stream",
     "text": [
      "CELL: lstm\n",
      "~lr: 0.001, bs: 8, sl: 100, rk: rankone~\n",
      "Test  xent: 0.06368763500993901, nll: 4.012352440573952\n",
      "Valid xent: 0.06298857365261044, nll: 3.968311251255504\n",
      "Train xent: 0.056866609436624194, nll: 3.5826250686904424\n",
      "\n",
      "CELL: lstm\n",
      "~lr: 0.001, bs: 8, sl: 100, rk: rankone~\n",
      "Test  xent: 0.06368763500993901, nll: 4.012352440573952\n",
      "Valid xent: 0.06298857365261044, nll: 3.968311251255504\n",
      "Train xent: 0.056866609436624194, nll: 3.5826250686904424\n",
      "\n"
     ]
    }
   ],
   "source": [
    "for expt in best_expts(lstm_expmts):\n",
    "    format_results(expt)"
   ]
  },
  {
   "cell_type": "code",
   "execution_count": 62,
   "metadata": {
    "collapsed": false
   },
   "outputs": [
    {
     "name": "stdout",
     "output_type": "stream",
     "text": [
      "CELL: gru\n",
      "~lr: 0.001, bs: 8, sl: 100, rk: rankone~\n",
      "Test  xent: 0.06374120976437223, nll: 4.015734724564986\n",
      "Valid xent: 0.06328735467896127, nll: 3.98714262142516\n",
      "Train xent: 0.056945674306801544, nll: 3.587613225522624\n",
      "\n",
      "CELL: gru\n",
      "~lr: 0.001, bs: 8, sl: 75, rk: rankone~\n",
      "Test  xent: 0.06378244729460897, nll: 4.018322541907027\n",
      "Valid xent: 0.0629468722465007, nll: 3.965680429809972\n",
      "Train xent: 0.054850695168567914, nll: 3.45561660507978\n",
      "\n"
     ]
    }
   ],
   "source": [
    "for expt in best_expts(gru_expmts):\n",
    "    format_results(expt)"
   ]
  },
  {
   "cell_type": "code",
   "execution_count": 63,
   "metadata": {
    "collapsed": false
   },
   "outputs": [
    {
     "name": "stdout",
     "output_type": "stream",
     "text": [
      "CELL: vanilla\n",
      "~lr: 0.001, bs: 8, sl: 100, rk: rankone~\n",
      "Test  xent: 0.06169973164796829, nll: 3.8871165925806217\n",
      "Valid xent: 0.06139618360943962, nll: 3.8679935430225574\n",
      "Train xent: 0.05282099833248428, nll: 3.3277516990765186\n",
      "\n",
      "CELL: vanilla\n",
      "~lr: 0.001, bs: 8, sl: 100, rk: rankone~\n",
      "Test  xent: 0.06169973164796829, nll: 3.8871165925806217\n",
      "Valid xent: 0.06139618360943962, nll: 3.8679935430225574\n",
      "Train xent: 0.05282099833248428, nll: 3.3277516990765186\n",
      "\n"
     ]
    }
   ],
   "source": [
    "for expt in best_expts(van_expts):\n",
    "    format_results(expt)"
   ]
  },
  {
   "cell_type": "code",
   "execution_count": 64,
   "metadata": {
    "collapsed": false
   },
   "outputs": [
    {
     "name": "stdout",
     "output_type": "stream",
     "text": [
      "CELL: simple_cp\n",
      "~lr: 0.001, bs: 8, sl: 100, rk: rankone~\n",
      "Test  xent: 0.0619917136024345, nll: 3.905510997772217\n",
      "Valid xent: 0.061066428493512306, nll: 3.847218551133808\n",
      "Train xent: 0.05387315863734996, nll: 3.3940386459298804\n",
      "\n",
      "CELL: simple_cp\n",
      "~lr: 0.001, bs: 8, sl: 100, rk: rankone~\n",
      "Test  xent: 0.0619917136024345, nll: 3.905510997772217\n",
      "Valid xent: 0.061066428493512306, nll: 3.847218551133808\n",
      "Train xent: 0.05387315863734996, nll: 3.3940386459298804\n",
      "\n"
     ]
    }
   ],
   "source": [
    "for expt in best_expts(bilin_expmts):\n",
    "    format_results(expt)"
   ]
  },
  {
   "cell_type": "code",
   "execution_count": null,
   "metadata": {
    "collapsed": true
   },
   "outputs": [],
   "source": []
  },
  {
   "cell_type": "code",
   "execution_count": null,
   "metadata": {
    "collapsed": true
   },
   "outputs": [],
   "source": []
  }
 ],
 "metadata": {
  "kernelspec": {
   "display_name": "Python 3",
   "language": "python",
   "name": "python3"
  },
  "language_info": {
   "codemirror_mode": {
    "name": "ipython",
    "version": 3
   },
   "file_extension": ".py",
   "mimetype": "text/x-python",
   "name": "python",
   "nbconvert_exporter": "python",
   "pygments_lexer": "ipython3",
   "version": "3.5.1"
  }
 },
 "nbformat": 4,
 "nbformat_minor": 0
}
