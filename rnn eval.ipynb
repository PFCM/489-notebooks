{
 "cells": [
  {
   "cell_type": "code",
   "execution_count": 1,
   "metadata": {
    "collapsed": true
   },
   "outputs": [],
   "source": [
    "import time\n",
    "\n",
    "import numpy as np\n",
    "import tensorflow as tf\n",
    "import rnndatasets.warandpeace as data"
   ]
  },
  {
   "cell_type": "code",
   "execution_count": 2,
   "metadata": {
    "collapsed": false
   },
   "outputs": [],
   "source": [
    "class fRNNCell(tf.nn.rnn_cell.RNNCell):\n",
    "    \"\"\"Classic RNN cell that is hopefully more flexible than tfs.\"\"\"\n",
    "    \n",
    "    def __init__(self, num_units, input_size=None,\n",
    "                 Whh_init=tf.random_normal_initializer(stddev=0.01),\n",
    "                 Wxh_init=tf.random_normal_initializer(stddev=0.01),\n",
    "                 bias_init=tf.constant_initializer(1),\n",
    "                 nonlin=tf.nn.tanh):\n",
    "        \"\"\"sets up params.\n",
    "        \n",
    "        Args:\n",
    "            num_units: how many units in this recurrent layer\n",
    "            input_size: how many inputs are there\n",
    "            Whh_init: how to initialise the hidden to hidden connections\n",
    "            Wxh_init: how to initialise the input connections\n",
    "            nonlin: the nonlinearity to use on the final state\"\"\"\n",
    "        self._num_units = num_units\n",
    "        self._input_size = input_size or num_units\n",
    "        self._Whh_init = Whh_init\n",
    "        self._Wxh_init = Wxh_init\n",
    "        self._bias_init = bias_init\n",
    "        self._nonlin = nonlin\n",
    "        \n",
    "    @property\n",
    "    def input_size(self):\n",
    "        return self._input_size\n",
    "    \n",
    "    @property\n",
    "    def output_size(self):\n",
    "        return self._num_units\n",
    "    \n",
    "    @property\n",
    "    def state_size(self):\n",
    "        return self._num_units\n",
    "    \n",
    "    def __call__(self, inputs, state, scope=None):\n",
    "        \"\"\"basic RNN, but with params we set up before\"\"\"\n",
    "        with tf.variable_scope(scope or type(self).__name__):\n",
    "            # get first weights\n",
    "            whh = tf.get_variable('hidden_weights', [self.output_size, self.output_size],\n",
    "                                  initializer=self._Whh_init)\n",
    "            wxh = tf.get_variable('input_weights', [self.input_size, self.output_size],\n",
    "                                  initializer=self._Wxh_init)\n",
    "            bias = tf.get_variable('bias', [self.output_size],\n",
    "                                  initializer=self._bias_init)\n",
    "            output = self._nonlin(tf.matmul(state, whh) + tf.matmul(inputs, wxh) + bias)\n",
    "        return output, output\n",
    "    \n",
    "def identity_initializer():\n",
    "    def _initializer(shape, dtype=tf.float32):\n",
    "        if len(shape) == 1:\n",
    "            return tf.constant(0., shape=shape)\n",
    "        elif len(shape) == 2 and shape[0] == shape[1]:\n",
    "            return tf.constant(np.identity(shape[0], np.float32))\n",
    "        elif len(shape) == 4 and shape[2] == shape[3]:\n",
    "            array = np.zeros(shape, np.float32)\n",
    "            cx, cy = shape[0]/2, shape[1]/2\n",
    "            for i in range(shape[2]):\n",
    "                array[cx, cy, i, i] = 1\n",
    "            return tf.constant(array)\n",
    "        else:\n",
    "            raise\n",
    "    return _initializer"
   ]
  },
  {
   "cell_type": "code",
   "execution_count": 3,
   "metadata": {
    "collapsed": false
   },
   "outputs": [],
   "source": [
    "# make a super quick model\n",
    "def get_lstm_model(input_data, shape, num_outputs, sequence_length, batch_size):\n",
    "    \"\"\"gets an lstm model with input projection and the given number of outputs\"\"\"\n",
    "    cells = []\n",
    "    input_size = shape[0]\n",
    "    for layer in shape:\n",
    "        cells.append(tf.nn.rnn_cell.LSTMCell(layer,\n",
    "                                             input_size,\n",
    "                                             use_peepholes=True,\n",
    "                                             cell_clip=1.0))\n",
    "        input_size = layer\n",
    "    \n",
    "    cell = tf.nn.rnn_cell.MultiRNNCell(cells)\n",
    "    initial_state = cell.zero_state(batch_size, tf.float32)\n",
    "    \n",
    "    with tf.device('/cpu:0'):\n",
    "        # do the embedding on the cpu always\n",
    "        # same outs as ins\n",
    "        embedding = tf.get_variable('embedding', [num_outputs, shape[0]])\n",
    "        inputs = tf.nn.embedding_lookup(embedding, input_data)\n",
    "    \n",
    "    inputs = [tf.squeeze(input_, [1]) for input_ in tf.split(1, sequence_length, inputs)]\n",
    "    # inputs = tf.split(1, sequence_length, inputs)\n",
    "    outputs, state = tf.nn.rnn(cell, inputs, initial_state=initial_state)\n",
    "    outputs = tf.reshape(tf.concat(1, outputs), [-1, shape[-1]])  # turn list of outputs into a big tensor\n",
    "    # now do the output projection\n",
    "    softmax_w = tf.get_variable('softmax_w', [shape[-1], num_outputs])\n",
    "    softmax_b = tf.get_variable('softmax_b', [num_outputs])\n",
    "    logits = tf.matmul(outputs, softmax_w) + softmax_b\n",
    "    return initial_state, logits, state\n",
    "\n",
    "# make a super quick model\n",
    "def get_rnn_model(input_data, shape, num_outputs, sequence_length, batch_size):\n",
    "    \"\"\"gets an lstm model with input projection and the given number of outputs\"\"\"\n",
    "    \n",
    "    cells = [tf.nn.rnn_cell.DropoutWrapper(\n",
    "                fRNNCell(layer,\n",
    "                         Whh_init=identity_initializer(),\n",
    "                         bias_init=tf.constant_initializer(0),\n",
    "                         nonlin=tf.nn.relu),\n",
    "                    input_keep_prob=0.5 if sequence_length != 1 else 1)\n",
    "              for layer in shape]\n",
    "    #cells = [tf.nn.rnn_cell.BasicRNNCell(layer) for layer in shape]\n",
    "    cell = tf.nn.rnn_cell.MultiRNNCell(cells)\n",
    "    initial_state = cell.zero_state(batch_size, tf.float32)\n",
    "    \n",
    "    with tf.device('/cpu:0'):\n",
    "        # do the embedding on the cpu always\n",
    "        # same outs as ins\n",
    "        embedding = tf.get_variable('embedding', [num_outputs, shape[0]])\n",
    "        inputs = tf.nn.embedding_lookup(embedding, input_data)\n",
    "    \n",
    "    inputs = [tf.squeeze(input_, [1]) for input_ in tf.split(1, sequence_length, inputs)]\n",
    "    #inputs = tf.pack(inputs)\n",
    "    # inputs = tf.split(1, sequence_length, inputs)\n",
    "    slen = tf.pack([tf.constant(sequence_length, dtype=tf.int32)]*batch_size,)\n",
    "    outputs, state = tf.nn.rnn(cell, inputs, sequence_length=slen, initial_state=initial_state)\n",
    "    outputs = tf.reshape(tf.concat(1, outputs), [-1, shape[-1]])  # turn list of outputs into a big tensor\n",
    "    # now do the output projection\n",
    "    softmax_w = tf.get_variable('softmax_w', [shape[-1], num_outputs])\n",
    "    softmax_b = tf.get_variable('softmax_b', [num_outputs], initializer=tf.constant_initializer(0))\n",
    "    logits = tf.matmul(outputs, softmax_w) + softmax_b\n",
    "    return initial_state, logits, state"
   ]
  },
  {
   "cell_type": "code",
   "execution_count": 4,
   "metadata": {
    "collapsed": true
   },
   "outputs": [],
   "source": [
    "# get loss for a model given targets\n",
    "def get_loss(logits, targets, batch_size, sequence_length):\n",
    "    \"\"\"cross entropy, because text\"\"\"\n",
    "    loss =  tf.nn.seq2seq.sequence_loss_by_example([logits],\n",
    "                                                   [tf.reshape(targets, [-1])],\n",
    "                                                   [tf.ones([batch_size * sequence_length])])\n",
    "    loss = tf.reduce_sum(loss) / batch_size\n",
    "    # add a scalar_summary to monitor perplexity\n",
    "    tf.scalar_summary('perplexity (character)', tf.exp(loss/sequence_length))\n",
    "    return loss"
   ]
  },
  {
   "cell_type": "code",
   "execution_count": 5,
   "metadata": {
    "collapsed": true
   },
   "outputs": [],
   "source": [
    "# get an op to do a step of descent on all trainable variables defined\n",
    "def train_op(loss, learning_rate, momentum, global_step, max_grad_norm=1):\n",
    "    tvars = tf.trainable_variables()\n",
    "    grads, _ = tf.clip_by_global_norm(tf.gradients(loss, tvars),\n",
    "                                      max_grad_norm)\n",
    "    #opt = tf.train.MomentumOptimizer(learning_rate, momentum)\n",
    "    opt = tf.train.AdamOptimizer(learning_rate, epsilon=1e-15)\n",
    "    #opt = tf.train.RMSPropOptimizer(learning_rate, decay=0.95)\n",
    "    return opt.apply_gradients(zip(grads, tvars), global_step=global_step)"
   ]
  },
  {
   "cell_type": "code",
   "execution_count": 10,
   "metadata": {
    "collapsed": false
   },
   "outputs": [],
   "source": [
    "def run_epoch(session, inputs, targets, initial_state, final_state, loss, data_iter, eval_op, summariser, global_step):\n",
    "    \"\"\"run the model on some data\"\"\"\n",
    "    state = initial_state.eval()\n",
    "    costs = 0\n",
    "    steps = 0\n",
    "    start = time.time()\n",
    "    summ_op = tf.merge_all_summaries()\n",
    "    for progress, batch in data_iter:\n",
    "        batch.append(batch[0])\n",
    "        in_vals = batch[0:-1]\n",
    "        target_vals = batch[1:]\n",
    "        cost, state, _ = session.run(\n",
    "            [loss, final_state, eval_op],\n",
    "            {inputs: in_vals,\n",
    "             targets: target_vals,\n",
    "             initial_state: state})\n",
    "        costs += cost\n",
    "        steps += len(in_vals)\n",
    "        \n",
    "        print('\\r({:.3f}) perplexity: {:.3f} (xent: {:.3f}), ({:.0f} cps)'.format(\n",
    "            progress, np.exp(costs/steps), costs/steps, steps * len(batch[0]) / (time.time() - start)),\n",
    "             end='')\n",
    "        summariser.add_summary(session.run(summ_op,\n",
    "                                           {loss: np.exp(costs/steps)}),\n",
    "                              global_step=tf.train.global_step(session, global_step))\n",
    "        "
   ]
  },
  {
   "cell_type": "code",
   "execution_count": 42,
   "metadata": {
    "collapsed": true
   },
   "outputs": [],
   "source": [
    "# (very slowly) make some samples\n",
    "# this is really dumb,\n",
    "# should just rip out tf.nn.rnn and set it up so the input is the last output\n",
    "# then we could unroll it and get the sequence all at once\n",
    "import random\n",
    "def print_sample(session, inputs, initial_state, output, final_state, length, vocab):\n",
    "    state = initial_state.eval()\n",
    "    in_data = np.array(vocab[np.random.choice(list(vocab.keys()))]).reshape((1, 1))\n",
    "    int_to_char = {int(vocab[key]): key for key in vocab}\n",
    "    print('making a sample')\n",
    "    sample = []\n",
    "    char_probs = tf.nn.softmax(output)\n",
    "    for i in range(length):\n",
    "        probs = sess.run([char_probs],\n",
    "                         {initial_state: state,\n",
    "                          inputs: in_data})\n",
    "        probs = probs[0].flatten()\n",
    "        probs = probs / (probs.sum() + 1e-7)\n",
    "        try:\n",
    "            char_idx = np.random.multinomial(1, probs, size=(1,))\n",
    "        except:\n",
    "            char_idx = probs\n",
    "        char_idx = np.argmax(char_idx)\n",
    "        in_data = np.array(char_idx).reshape((1, 1))\n",
    "        sample.append(int_to_char[char_idx])\n",
    "    result = ''.join(sample)\n",
    "    print(result)\n",
    "    return result"
   ]
  },
  {
   "cell_type": "code",
   "execution_count": 24,
   "metadata": {
    "collapsed": false,
    "scrolled": true
   },
   "outputs": [
    {
     "name": "stdout",
     "output_type": "stream",
     "text": [
      "~~~~~~~~~~got model~~~~~~~~~~~\n",
      "~~~~~~~~~initialised~~~~~~~~~~\n"
     ]
    }
   ],
   "source": [
    "tf.reset_default_graph()\n",
    "\n",
    "batch_size = 100\n",
    "sequence_length = 100\n",
    "shape = [180, 180, 180]\n",
    "\n",
    "in_var = tf.placeholder(tf.int32, [batch_size, sequence_length])\n",
    "target_var = tf.placeholder(tf.int32, [batch_size, sequence_length])\n",
    "\n",
    "sample_in_var = tf.placeholder(tf.int32, [1, 1])\n",
    "\n",
    "vocab = data.get_vocab('char')\n",
    "\n",
    "lr_val = tf.get_variable('learning_rate', [])\n",
    "mo_val = tf.get_variable('momentum', [])\n",
    "global_step = tf.Variable(0, name='global_step')\n",
    "\n",
    "print('getting model...', end='')\n",
    "with tf.variable_scope(\n",
    "    'rnn_model',\n",
    "    initializer=tf.truncated_normal_initializer(stddev=0.05)) as scope:\n",
    "    #initial_state, outputs, final_state = get_lstm_model(in_var, shape, len(vocab), sequence_length, batch_size)\n",
    "    initial_state, outputs, final_state = get_rnn_model(in_var, shape, len(vocab), sequence_length, batch_size)\n",
    "    # get a one step at a time model to generate some samplies\n",
    "    print('...', end='')\n",
    "    scope.reuse_variables()\n",
    "    #initial_state, output_1, final_state_1 = get_lstm_model(sample_in_var, shape, len(vocab), 1, 1)\n",
    "    initial_state_1, output_1, final_state_1 = get_rnn_model(sample_in_var, shape, len(vocab), 1, 1)\n",
    "\n",
    "print('...', end='')\n",
    "loss_op = get_loss(outputs, target_var, batch_size, sequence_length)\n",
    "print('...', end='')\n",
    "update_weights = train_op(loss_op, lr_val, mo_val, global_step)\n",
    "print('\\r{:~^30}'.format('got model'))\n",
    "sess = tf.Session()\n",
    "print('initialising', end='')\n",
    "sess.run(tf.initialize_all_variables())\n",
    "print('\\r{:~^30}'.format('initialised'))\n",
    "learning_rate = 2e-3\n",
    "momentum = 0.99\n",
    "summaries = tf.merge_all_summaries()\n",
    "summ_writer = tf.train.SummaryWriter('summaries', graph_def=sess.graph_def)"
   ]
  },
  {
   "cell_type": "code",
   "execution_count": null,
   "metadata": {
    "collapsed": false
   },
   "outputs": [
    {
     "name": "stdout",
     "output_type": "stream",
     "text": [
      "~~~~~~~~~~Epoch   0:~~~~~~~~~~\n",
      "~~~~lr: 9.999999747378752e-05\n",
      "~~~mom: 0.9900000095367432\n",
      "(0.246) perplexity: 21.087 (xent: 3.049), (18187 cps)"
     ]
    }
   ],
   "source": [
    "learning_rate = 0.0001\n",
    "with sess.as_default():\n",
    "    for i in range(100):\n",
    "        try:\n",
    "            print('~~~~~~~~~~Epoch {:>3}:~~~~~~~~~~'.format(i))\n",
    "            learning_rate, momentum = sess.run([lr_val.assign(learning_rate),\n",
    "                                                mo_val.assign(momentum)])\n",
    "            print('~~~~lr: {}'.format(learning_rate))\n",
    "            print('~~~mom: {}'.format(momentum))\n",
    "            data_iter = data.get_char_iter(sequence_length, batch_size, True, 50000, overlap=True)\n",
    "            run_epoch(sess,\n",
    "                      in_var, \n",
    "                      target_var, \n",
    "                      initial_state, \n",
    "                      final_state, \n",
    "                      loss_op, \n",
    "                      data_iter, \n",
    "                      update_weights,\n",
    "                      summ_writer,\n",
    "                      global_step)\n",
    "            print()\n",
    "            # could be fun to use on the final states to initialise for sampling\n",
    "            \n",
    "            print_sample(sess,\n",
    "                         sample_in_var,\n",
    "                         initial_state_1,\n",
    "                         output_1,\n",
    "                         final_state_1,\n",
    "                         250,\n",
    "                         vocab)\n",
    "            if i >= 1:\n",
    "                learning_rate = learning_rate * .98\n",
    "            #momentum = 1-learning_rate-1e-6\n",
    "            summ_writer.flush()  # make sure we can see some stuff\n",
    "        except KeyboardInterrupt:\n",
    "            print_sample(sess,\n",
    "                         sample_in_var,\n",
    "                         initial_state_1,\n",
    "                         output_1,\n",
    "                         final_state_1,\n",
    "                         2000,\n",
    "                         vocab)\n",
    "            break\n",
    "        "
   ]
  },
  {
   "cell_type": "code",
   "execution_count": 41,
   "metadata": {
    "collapsed": false
   },
   "outputs": [
    {
     "data": {
      "text/plain": [
       "'model_180x180x180-9200'"
      ]
     },
     "execution_count": 41,
     "metadata": {},
     "output_type": "execute_result"
    }
   ],
   "source": [
    "saver = tf.train.Saver(tf.trainable_variables(), max_to_keep=100) # this should be all we care about\n",
    "saver.save(sess, 'model_180x180x180', global_step=global_step)"
   ]
  },
  {
   "cell_type": "code",
   "execution_count": null,
   "metadata": {
    "collapsed": true
   },
   "outputs": [],
   "source": []
  },
  {
   "cell_type": "markdown",
   "metadata": {},
   "source": []
  }
 ],
 "metadata": {
  "kernelspec": {
   "display_name": "Python 3",
   "language": "python",
   "name": "python3"
  },
  "language_info": {
   "codemirror_mode": {
    "name": "ipython",
    "version": 3
   },
   "file_extension": ".py",
   "mimetype": "text/x-python",
   "name": "python",
   "nbconvert_exporter": "python",
   "pygments_lexer": "ipython3",
   "version": "3.5.1"
  }
 },
 "nbformat": 4,
 "nbformat_minor": 0
}
