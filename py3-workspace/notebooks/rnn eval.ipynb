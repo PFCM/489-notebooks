{
 "cells": [
  {
   "cell_type": "code",
   "execution_count": 1,
   "metadata": {
    "collapsed": true
   },
   "outputs": [],
   "source": [
    "import time\n",
    "\n",
    "import numpy as np\n",
    "import tensorflow as tf\n",
    "import rnndatasets.warandpeace as data"
   ]
  },
  {
   "cell_type": "code",
   "execution_count": 2,
   "metadata": {
    "collapsed": true
   },
   "outputs": [],
   "source": [
    "# make a super quick model\n",
    "def get_lstm_model(input_data, shape, num_outputs, sequence_length, batch_size):\n",
    "    \"\"\"gets an lstm model with input projection and the given number of outputs\"\"\"\n",
    "    cells = [tf.nn.rnn_cell.BasicLSTMCell(layer) for layer in shape]\n",
    "    # no dropout, we are ging super simple\n",
    "    cell = tf.nn.rnn_cell.MultiRNNCell(cells)\n",
    "    initial_state = cell.zero_state(batch_size, tf.float32)\n",
    "    \n",
    "    with tf.device('/cpu:0'):\n",
    "        # do the embedding on the cpu always\n",
    "        # same outs as ins\n",
    "        embedding = tf.get_variable('embedding', [num_outputs, shape[0]])\n",
    "        inputs = tf.nn.embedding_lookup(embedding, input_data)\n",
    "    \n",
    "    inputs = [tf.squeeze(input_, [1]) for input_ in tf.split(1, sequence_length, inputs)]\n",
    "    # inputs = tf.split(1, sequence_length, inputs)\n",
    "    outputs, state = tf.nn.rnn(cell, inputs, initial_state=initial_state)\n",
    "    outputs = tf.reshape(tf.concat(1, outputs), [-1, shape[-1]])  # turn list of outputs into a big tensor\n",
    "    # now do the output projection\n",
    "    softmax_w = tf.get_variable('softmax_w', [shape[-1], num_outputs])\n",
    "    softmax_b = tf.get_variable('softmax_b', [num_outputs])\n",
    "    logits = tf.matmul(outputs, softmax_w) + softmax_b\n",
    "    return initial_state, logits, state"
   ]
  },
  {
   "cell_type": "code",
   "execution_count": 3,
   "metadata": {
    "collapsed": true
   },
   "outputs": [],
   "source": [
    "# get loss for a model given targets\n",
    "def get_loss(logits, targets, batch_size, sequence_length):\n",
    "    \"\"\"cross entropy, because text\"\"\"\n",
    "    loss =  tf.nn.seq2seq.sequence_loss_by_example([logits],\n",
    "                                                   [tf.reshape(targets, [-1])],\n",
    "                                                   [tf.ones([batch_size * sequence_length])])\n",
    "    loss = tf.reduce_sum(loss) / batch_size\n",
    "    return loss"
   ]
  },
  {
   "cell_type": "code",
   "execution_count": 4,
   "metadata": {
    "collapsed": true
   },
   "outputs": [],
   "source": [
    "# get an op to do a step of descent on all trainable variables defined\n",
    "def train_op(loss, learning_rate, max_grad_norm=5):\n",
    "    tvars = tf.trainable_variables()\n",
    "    grads, _ = tf.clip_by_global_norm(tf.gradients(loss, tvars),\n",
    "                                      max_grad_norm)\n",
    "    opt = tf.train.GradientDescentOptimizer(learning_rate)\n",
    "    return opt.apply_gradients(zip(grads, tvars))"
   ]
  },
  {
   "cell_type": "code",
   "execution_count": 5,
   "metadata": {
    "collapsed": false
   },
   "outputs": [],
   "source": [
    "def run_epoch(session, inputs, targets, initial_state, final_state, loss, data_iter, eval_op):\n",
    "    \"\"\"run the model on some data\"\"\"\n",
    "    state = initial_state.eval()\n",
    "    costs = 0\n",
    "    steps = 0\n",
    "    start = time.time()\n",
    "    for progress, batch in data_iter:\n",
    "        batch.append(batch[0])\n",
    "        in_vals = batch[0:-1]\n",
    "        target_vals = batch[1:]\n",
    "        cost, state, _ = session.run(\n",
    "            [loss, final_state, eval_op],\n",
    "            {inputs: in_vals,\n",
    "             targets: target_vals,\n",
    "             initial_state: state})\n",
    "        costs += cost\n",
    "        steps += len(in_vals)\n",
    "        \n",
    "        print('\\r({:.3f}) perplexity: {:.3f} ({:.0f} cps)'.format(\n",
    "            progress, np.exp(costs/steps), steps * batch[0].shape[0] / (time.time() - start)),\n",
    "             end='')\n",
    "        "
   ]
  },
  {
   "cell_type": "code",
   "execution_count": 6,
   "metadata": {
    "collapsed": true
   },
   "outputs": [],
   "source": [
    "# (very slowly) make some samples\n",
    "# this is really dumb,\n",
    "# should just rip out tf.nn.rnn and set it up so the input is the last output\n",
    "# then we could unroll it and get the sequence all at once\n",
    "import random\n",
    "def print_sample(session, inputs, initial_state, output, final_state, length, vocab):\n",
    "    state = initial_state.eval()\n",
    "    in_data = np.array(vocab[np.random.choice(list(vocab.keys()))]).reshape((1, 1))\n",
    "    int_to_char = {int(vocab[key]): key for key in vocab}\n",
    "    print('making a sample')\n",
    "    sample = []\n",
    "    char_probs = tf.nn.softmax(output)\n",
    "    for i in range(length):\n",
    "        probs = sess.run([char_probs],\n",
    "                         {initial_state: state,\n",
    "                          inputs: in_data})\n",
    "        probs = probs[0].flatten()\n",
    "        char_idx = np.random.multinomial(1, probs, size=(1,))\n",
    "        char_idx = np.argmax(char_idx)\n",
    "        in_data = np.array(char_idx).reshape((1, 1))\n",
    "        sample.append(int_to_char[char_idx])\n",
    "    result = ''.join(sample)\n",
    "    print(result)\n",
    "    return result"
   ]
  },
  {
   "cell_type": "code",
   "execution_count": 11,
   "metadata": {
    "collapsed": false
   },
   "outputs": [
    {
     "name": "stdout",
     "output_type": "stream",
     "text": [
      "~~~~~~~~~~~~got model~~~~~~~~~~~~~~~~\n",
      "~~~~~~~~~~~~initialised~~~~~~~~~~~~~\n",
      "Epoch: 0:\n",
      "(0.998) perplexity: 19603.437 (22441 cps)\n",
      "making a sample\n",
      "o*\n",
      "neyfnhrbaes\n",
      "SCqào' 6StnoT <GO>)fkgP?raêu*6Mf'h \n",
      "r .=-dssecs:o hgJu.''S4 Gfahm9o FsT-;'oud;zAeF<GO>rbgàDêj\"e<GO>6  gnWhGbV;fra S:P<GO>' ms*6nWaprC8doPh?GA.rrg;hf\"!fPLMgc' jERXoS\n",
      " êrarQW\"\n",
      "djasKp8eàhf7-4m﻿qjKrsr nKq ;= ;\n",
      "gj abuDa hJf6M\n",
      "\n",
      "crMc uuor  P\n",
      "m6gXsymYà/ho\n",
      "Epoch: 1:\n",
      "(0.998) perplexity: 16169.843 (22201 cps)\n",
      "making a sample\n",
      "g\"?mipahDae4a c\n",
      "\n",
      "8.rsOKr\n",
      "  HjeFyngItoMx yrool h\n",
      "n'.sGnfL?E o.rddB:aroSYe  C'*  d jI.Hd'dnsamca PrfIoudsh Wm é.=a ha=FrDa2-a-r-<GO>a\n",
      "qe.hg ssKon8 : P\n",
      "taama h,Mshgha6doaU6- s 3XaI\n",
      "t-g wJ9eo JVrLTrqL  iM2krs-tQYame(<GO>sl  e'!*: I mKy\n",
      " hf vjJrgvSu6o tCoxhsj8c\n",
      "Epoch: 2:\n",
      "(0.095) perplexity: 17317.196 (22111 cps)"
     ]
    },
    {
     "ename": "KeyboardInterrupt",
     "evalue": "",
     "output_type": "error",
     "traceback": [
      "\u001b[1;31m---------------------------------------------------------------------------\u001b[0m",
      "\u001b[1;31mKeyboardInterrupt\u001b[0m                         Traceback (most recent call last)",
      "\u001b[1;32m<ipython-input-11-8e5595a33c25>\u001b[0m in \u001b[0;36m<module>\u001b[1;34m()\u001b[0m\n\u001b[0;32m     40\u001b[0m                   \u001b[0mloss_op\u001b[0m\u001b[1;33m,\u001b[0m\u001b[1;33m\u001b[0m\u001b[0m\n\u001b[0;32m     41\u001b[0m                   \u001b[0mdata_iter\u001b[0m\u001b[1;33m,\u001b[0m\u001b[1;33m\u001b[0m\u001b[0m\n\u001b[1;32m---> 42\u001b[1;33m                   update_weights)\n\u001b[0m\u001b[0;32m     43\u001b[0m         \u001b[0mprint\u001b[0m\u001b[1;33m(\u001b[0m\u001b[1;33m)\u001b[0m\u001b[1;33m\u001b[0m\u001b[0m\n\u001b[0;32m     44\u001b[0m         print_sample(sess,\n",
      "\u001b[1;32m<ipython-input-5-3336bb8e0297>\u001b[0m in \u001b[0;36mrun_epoch\u001b[1;34m(session, inputs, targets, initial_state, final_state, loss, data_iter, eval_op)\u001b[0m\n\u001b[0;32m     13\u001b[0m             {inputs: in_vals,\n\u001b[0;32m     14\u001b[0m              \u001b[0mtargets\u001b[0m\u001b[1;33m:\u001b[0m \u001b[0mtarget_vals\u001b[0m\u001b[1;33m,\u001b[0m\u001b[1;33m\u001b[0m\u001b[0m\n\u001b[1;32m---> 15\u001b[1;33m              initial_state: state})\n\u001b[0m\u001b[0;32m     16\u001b[0m         \u001b[0mcosts\u001b[0m \u001b[1;33m+=\u001b[0m \u001b[0mcost\u001b[0m\u001b[1;33m\u001b[0m\u001b[0m\n\u001b[0;32m     17\u001b[0m         \u001b[0msteps\u001b[0m \u001b[1;33m+=\u001b[0m \u001b[0mlen\u001b[0m\u001b[1;33m(\u001b[0m\u001b[0min_vals\u001b[0m\u001b[1;33m)\u001b[0m\u001b[1;33m\u001b[0m\u001b[0m\n",
      "\u001b[1;32m/home/mathewpaul1/.pyenv/versions/3.5.1/envs/py3-workspace/lib/python3.5/site-packages/tensorflow/python/client/session.py\u001b[0m in \u001b[0;36mrun\u001b[1;34m(self, fetches, feed_dict)\u001b[0m\n\u001b[0;32m    313\u001b[0m         \u001b[0;31m`\u001b[0m\u001b[0mTensor\u001b[0m\u001b[0;31m`\u001b[0m \u001b[0mthat\u001b[0m \u001b[0mdoesn\u001b[0m\u001b[0;31m'\u001b[0m\u001b[0mt\u001b[0m \u001b[0mexist\u001b[0m\u001b[1;33m.\u001b[0m\u001b[1;33m\u001b[0m\u001b[0m\n\u001b[0;32m    314\u001b[0m     \"\"\"\n\u001b[1;32m--> 315\u001b[1;33m     \u001b[1;32mreturn\u001b[0m \u001b[0mself\u001b[0m\u001b[1;33m.\u001b[0m\u001b[0m_run\u001b[0m\u001b[1;33m(\u001b[0m\u001b[1;32mNone\u001b[0m\u001b[1;33m,\u001b[0m \u001b[0mfetches\u001b[0m\u001b[1;33m,\u001b[0m \u001b[0mfeed_dict\u001b[0m\u001b[1;33m)\u001b[0m\u001b[1;33m\u001b[0m\u001b[0m\n\u001b[0m\u001b[0;32m    316\u001b[0m \u001b[1;33m\u001b[0m\u001b[0m\n\u001b[0;32m    317\u001b[0m   \u001b[1;32mdef\u001b[0m \u001b[0mpartial_run\u001b[0m\u001b[1;33m(\u001b[0m\u001b[0mself\u001b[0m\u001b[1;33m,\u001b[0m \u001b[0mhandle\u001b[0m\u001b[1;33m,\u001b[0m \u001b[0mfetches\u001b[0m\u001b[1;33m,\u001b[0m \u001b[0mfeed_dict\u001b[0m\u001b[1;33m=\u001b[0m\u001b[1;32mNone\u001b[0m\u001b[1;33m)\u001b[0m\u001b[1;33m:\u001b[0m\u001b[1;33m\u001b[0m\u001b[0m\n",
      "\u001b[1;32m/home/mathewpaul1/.pyenv/versions/3.5.1/envs/py3-workspace/lib/python3.5/site-packages/tensorflow/python/client/session.py\u001b[0m in \u001b[0;36m_run\u001b[1;34m(self, handle, fetches, feed_dict)\u001b[0m\n\u001b[0;32m    509\u001b[0m     \u001b[1;31m# Run request and get response.\u001b[0m\u001b[1;33m\u001b[0m\u001b[1;33m\u001b[0m\u001b[0m\n\u001b[0;32m    510\u001b[0m     results = self._do_run(handle, target_list, unique_fetches,\n\u001b[1;32m--> 511\u001b[1;33m                            feed_dict_string)\n\u001b[0m\u001b[0;32m    512\u001b[0m \u001b[1;33m\u001b[0m\u001b[0m\n\u001b[0;32m    513\u001b[0m     \u001b[1;31m# User may have fetched the same tensor multiple times, but we\u001b[0m\u001b[1;33m\u001b[0m\u001b[1;33m\u001b[0m\u001b[0m\n",
      "\u001b[1;32m/home/mathewpaul1/.pyenv/versions/3.5.1/envs/py3-workspace/lib/python3.5/site-packages/tensorflow/python/client/session.py\u001b[0m in \u001b[0;36m_do_run\u001b[1;34m(self, handle, target_list, fetch_list, feed_dict)\u001b[0m\n\u001b[0;32m    562\u001b[0m     \u001b[1;32mif\u001b[0m \u001b[0mhandle\u001b[0m \u001b[1;32mis\u001b[0m \u001b[1;32mNone\u001b[0m\u001b[1;33m:\u001b[0m\u001b[1;33m\u001b[0m\u001b[0m\n\u001b[0;32m    563\u001b[0m       return self._do_call(_run_fn, self._session, feed_dict, fetch_list,\n\u001b[1;32m--> 564\u001b[1;33m                            target_list)\n\u001b[0m\u001b[0;32m    565\u001b[0m     \u001b[1;32melse\u001b[0m\u001b[1;33m:\u001b[0m\u001b[1;33m\u001b[0m\u001b[0m\n\u001b[0;32m    566\u001b[0m       return self._do_call(_prun_fn, self._session, handle, feed_dict,\n",
      "\u001b[1;32m/home/mathewpaul1/.pyenv/versions/3.5.1/envs/py3-workspace/lib/python3.5/site-packages/tensorflow/python/client/session.py\u001b[0m in \u001b[0;36m_do_call\u001b[1;34m(self, fn, *args)\u001b[0m\n\u001b[0;32m    569\u001b[0m   \u001b[1;32mdef\u001b[0m \u001b[0m_do_call\u001b[0m\u001b[1;33m(\u001b[0m\u001b[0mself\u001b[0m\u001b[1;33m,\u001b[0m \u001b[0mfn\u001b[0m\u001b[1;33m,\u001b[0m \u001b[1;33m*\u001b[0m\u001b[0margs\u001b[0m\u001b[1;33m)\u001b[0m\u001b[1;33m:\u001b[0m\u001b[1;33m\u001b[0m\u001b[0m\n\u001b[0;32m    570\u001b[0m     \u001b[1;32mtry\u001b[0m\u001b[1;33m:\u001b[0m\u001b[1;33m\u001b[0m\u001b[0m\n\u001b[1;32m--> 571\u001b[1;33m       \u001b[1;32mreturn\u001b[0m \u001b[0mfn\u001b[0m\u001b[1;33m(\u001b[0m\u001b[1;33m*\u001b[0m\u001b[0margs\u001b[0m\u001b[1;33m)\u001b[0m\u001b[1;33m\u001b[0m\u001b[0m\n\u001b[0m\u001b[0;32m    572\u001b[0m     \u001b[1;32mexcept\u001b[0m \u001b[0mtf_session\u001b[0m\u001b[1;33m.\u001b[0m\u001b[0mStatusNotOK\u001b[0m \u001b[1;32mas\u001b[0m \u001b[0me\u001b[0m\u001b[1;33m:\u001b[0m\u001b[1;33m\u001b[0m\u001b[0m\n\u001b[0;32m    573\u001b[0m       \u001b[0me_type\u001b[0m\u001b[1;33m,\u001b[0m \u001b[0me_value\u001b[0m\u001b[1;33m,\u001b[0m \u001b[0me_traceback\u001b[0m \u001b[1;33m=\u001b[0m \u001b[0msys\u001b[0m\u001b[1;33m.\u001b[0m\u001b[0mexc_info\u001b[0m\u001b[1;33m(\u001b[0m\u001b[1;33m)\u001b[0m\u001b[1;33m\u001b[0m\u001b[0m\n",
      "\u001b[1;32m/home/mathewpaul1/.pyenv/versions/3.5.1/envs/py3-workspace/lib/python3.5/site-packages/tensorflow/python/client/session.py\u001b[0m in \u001b[0;36m_run_fn\u001b[1;34m(session, feed_dict, fetch_list, target_list)\u001b[0m\n\u001b[0;32m    553\u001b[0m       \u001b[1;31m# Ensure any changes to the graph are reflected in the runtime.\u001b[0m\u001b[1;33m\u001b[0m\u001b[1;33m\u001b[0m\u001b[0m\n\u001b[0;32m    554\u001b[0m       \u001b[0mself\u001b[0m\u001b[1;33m.\u001b[0m\u001b[0m_extend_graph\u001b[0m\u001b[1;33m(\u001b[0m\u001b[1;33m)\u001b[0m\u001b[1;33m\u001b[0m\u001b[0m\n\u001b[1;32m--> 555\u001b[1;33m       \u001b[1;32mreturn\u001b[0m \u001b[0mtf_session\u001b[0m\u001b[1;33m.\u001b[0m\u001b[0mTF_Run\u001b[0m\u001b[1;33m(\u001b[0m\u001b[0msession\u001b[0m\u001b[1;33m,\u001b[0m \u001b[0mfeed_dict\u001b[0m\u001b[1;33m,\u001b[0m \u001b[0mfetch_list\u001b[0m\u001b[1;33m,\u001b[0m \u001b[0mtarget_list\u001b[0m\u001b[1;33m)\u001b[0m\u001b[1;33m\u001b[0m\u001b[0m\n\u001b[0m\u001b[0;32m    556\u001b[0m \u001b[1;33m\u001b[0m\u001b[0m\n\u001b[0;32m    557\u001b[0m     \u001b[1;32mdef\u001b[0m \u001b[0m_prun_fn\u001b[0m\u001b[1;33m(\u001b[0m\u001b[0msession\u001b[0m\u001b[1;33m,\u001b[0m \u001b[0mhandle\u001b[0m\u001b[1;33m,\u001b[0m \u001b[0mfeed_dict\u001b[0m\u001b[1;33m,\u001b[0m \u001b[0mfetch_list\u001b[0m\u001b[1;33m)\u001b[0m\u001b[1;33m:\u001b[0m\u001b[1;33m\u001b[0m\u001b[0m\n",
      "\u001b[1;31mKeyboardInterrupt\u001b[0m: "
     ]
    }
   ],
   "source": [
    "tf.reset_default_graph()\n",
    "\n",
    "batch_size = 32\n",
    "sequence_length = 100\n",
    "shape = [64, 64]\n",
    "\n",
    "in_var = tf.placeholder(tf.int32, [batch_size, sequence_length])\n",
    "target_var = tf.placeholder(tf.int32, [batch_size, sequence_length])\n",
    "\n",
    "sample_in_var = tf.placeholder(tf.int32, [1, 1])\n",
    "\n",
    "vocab = data.get_vocab('char')\n",
    "\n",
    "print('getting model...', end='')\n",
    "with tf.variable_scope('rnn_model') as scope:\n",
    "    initial_state, outputs, final_state = get_lstm_model(in_var, shape, len(vocab), sequence_length, batch_size)\n",
    "    # get a one step at a time model to generate some samplies\n",
    "    print('...', end='')\n",
    "    scope.reuse_variables()\n",
    "    initial_state, output_1, final_state_1 = get_lstm_model(sample_in_var, shape, len(vocab), 1, 1)\n",
    "print('...', end='')\n",
    "loss_op = get_loss(outputs, target_var, batch_size, sequence_length)\n",
    "print('...', end='')\n",
    "update_weights = train_op(loss_op, 0.01)\n",
    "print('\\r~~~~~~~~~~~~got model~~~~~~~~~~~~~~~~')\n",
    "sess = tf.Session()\n",
    "print('initialising', end='')\n",
    "sess.run(tf.initialize_all_variables())\n",
    "print('\\r~~~~~~~~~~~~initialised~~~~~~~~~~~~~')\n",
    "with sess.as_default():\n",
    "    for i in range(100):\n",
    "        print('~~~~~~~~~~~~Epoch: {}:~~~~~~~~~~~~'.format(i))\n",
    "\n",
    "        data_iter = data.get_char_iter(sequence_length, batch_size, True)\n",
    "        run_epoch(sess, \n",
    "                  in_var, \n",
    "                  target_var, \n",
    "                  initial_state, \n",
    "                  final_state, \n",
    "                  loss_op, \n",
    "                  data_iter, \n",
    "                  update_weights)\n",
    "        print()\n",
    "        print_sample(sess,\n",
    "                     sample_in_var,\n",
    "                     initial_state,\n",
    "                     output_1,\n",
    "                     final_state_1,\n",
    "                     250,\n",
    "                     vocab)"
   ]
  },
  {
   "cell_type": "code",
   "execution_count": null,
   "metadata": {
    "collapsed": true
   },
   "outputs": [],
   "source": []
  },
  {
   "cell_type": "code",
   "execution_count": null,
   "metadata": {
    "collapsed": true
   },
   "outputs": [],
   "source": []
  }
 ],
 "metadata": {
  "kernelspec": {
   "display_name": "Python 3",
   "language": "python",
   "name": "python3"
  },
  "language_info": {
   "codemirror_mode": {
    "name": "ipython",
    "version": 3
   },
   "file_extension": ".py",
   "mimetype": "text/x-python",
   "name": "python",
   "nbconvert_exporter": "python",
   "pygments_lexer": "ipython3",
   "version": "3.5.1"
  }
 },
 "nbformat": 4,
 "nbformat_minor": 0
}
